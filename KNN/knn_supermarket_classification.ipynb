{
 "cells": [
  {
   "cell_type": "markdown",
   "id": "6ddcc316",
   "metadata": {},
   "source": [
    "# K-Nearest Neighbors: Classifying Supermarkets by Brand\n",
    "\n",
    "In this notebook, we will use **K-Nearest Neighbors (KNN)** to classify supermarkets based on their brand.\n",
    "The goal is to predict the supermarket brand (e.g., Spar, ALDI, Lidl, Migros) using features like population density, percentage of foreigners, employment rate, and latitude and longitude.\n",
    "\n",
    "KNN is a simple supervised learning algorithm used for classification, where an object is classified by the majority label of its neighbors."
   ]
  },
  {
   "cell_type": "markdown",
   "id": "39b2323b",
   "metadata": {},
   "source": [
    "## Libraries and Settings"
   ]
  },
  {
   "cell_type": "code",
   "execution_count": null,
   "id": "bf9fffa1",
   "metadata": {},
   "outputs": [],
   "source": [
    "# Libraries\n",
    "import os\n",
    "import re\n",
    "import pandas as pd\n",
    "import seaborn as sns\n",
    "import matplotlib.pyplot as plt\n",
    "from sklearn.model_selection import train_test_split\n",
    "from sklearn.neighbors import KNeighborsClassifier\n",
    "from sklearn.metrics import classification_report, confusion_matrix\n",
    "from sklearn.preprocessing import StandardScaler\n",
    "\n",
    "# Ignore warnings\n",
    "import warnings\n",
    "warnings.filterwarnings('ignore')\n",
    "\n",
    "# Show current working directory\n",
    "print(os.getcwd())"
   ]
  },
  {
   "cell_type": "markdown",
   "id": "763e0848",
   "metadata": {},
   "source": [
    "## Import Data"
   ]
  },
  {
   "cell_type": "code",
   "execution_count": null,
   "id": "8bf46312",
   "metadata": {},
   "outputs": [],
   "source": [
    "# Load the supermarket dataset\n",
    "df = pd.read_csv('./Data/supermarkets_data_enriched.csv', \n",
    "                 sep=',', \n",
    "                 encoding='utf-8',\n",
    "                 index_col=0)\n",
    "\n",
    "# Show dimension (rows, columns)\n",
    "print(df.shape)\n",
    "\n",
    "# Show the first 5 rows\n",
    "df.head()"
   ]
  },
  {
   "cell_type": "markdown",
   "id": "5c37397e",
   "metadata": {},
   "source": [
    "## Data Preprocessing"
   ]
  },
  {
   "cell_type": "markdown",
   "id": "e5b772f8",
   "metadata": {},
   "source": [
    "### Remove rows with missing or duplicated values"
   ]
  },
  {
   "cell_type": "code",
   "execution_count": 26,
   "id": "1354dd7c",
   "metadata": {},
   "outputs": [],
   "source": [
    "# Remove rows with missing values\n",
    "df = df.dropna()\n",
    "\n",
    "# Remove rows with duplicated values\n",
    "df = df.drop_duplicates()"
   ]
  },
  {
   "cell_type": "markdown",
   "id": "fd77f471",
   "metadata": {},
   "source": [
    "### Change brand names to upper"
   ]
  },
  {
   "cell_type": "code",
   "execution_count": 27,
   "id": "3ddb9a3e",
   "metadata": {},
   "outputs": [],
   "source": [
    "# Change brand names to uppercase\n",
    "df['brand'] = df['brand'].str.upper()"
   ]
  },
  {
   "cell_type": "markdown",
   "id": "013b80c2",
   "metadata": {},
   "source": [
    "### Create a subset of the data with defined brands"
   ]
  },
  {
   "cell_type": "code",
   "execution_count": null,
   "id": "fb69480a",
   "metadata": {},
   "outputs": [],
   "source": [
    "# Select subset of supermarket data (reset the index in the subset)\n",
    "df_sub = df[df['brand'].isin(['SPAR', 'LANDI', 'MIGROS', 'ALDI'])].reset_index(drop=True)\n",
    "df_sub.head()"
   ]
  },
  {
   "cell_type": "markdown",
   "id": "44a54005",
   "metadata": {},
   "source": [
    "### Select relevant features for classification"
   ]
  },
  {
   "cell_type": "code",
   "execution_count": 29,
   "id": "377b31b2",
   "metadata": {},
   "outputs": [],
   "source": [
    "# Select relevant features for classification\n",
    "features = ['pop_dens', 'frg_pct', 'emp', 'lat', 'lon']\n",
    "X = df_sub[features]\n",
    "y = df_sub['brand']"
   ]
  },
  {
   "cell_type": "markdown",
   "id": "bc8263a6",
   "metadata": {},
   "source": [
    "### Split the data into training and testing sets"
   ]
  },
  {
   "cell_type": "code",
   "execution_count": 30,
   "id": "639b89b1",
   "metadata": {},
   "outputs": [],
   "source": [
    "# Split the data into training and testing sets\n",
    "X_train, X_test, y_train, y_test = train_test_split(X, y, test_size=0.3, random_state=42)\n",
    "\n",
    "# Standardize the features (removes the mean and scales to unit variance)\n",
    "scaler = StandardScaler()\n",
    "X_train = scaler.fit_transform(X_train)\n",
    "X_test = scaler.transform(X_test)"
   ]
  },
  {
   "cell_type": "markdown",
   "id": "02c5a2ab",
   "metadata": {},
   "source": [
    "## Model Training: K-Nearest Neighbors"
   ]
  },
  {
   "cell_type": "code",
   "execution_count": null,
   "id": "2b5ae8d7",
   "metadata": {},
   "outputs": [],
   "source": [
    "# Initialize the KNN model with 5 neighbors\n",
    "knn = KNeighborsClassifier(n_neighbors=5)\n",
    "\n",
    "# Train the model\n",
    "knn.fit(X_train, y_train)"
   ]
  },
  {
   "cell_type": "markdown",
   "id": "7c6ad08b",
   "metadata": {},
   "source": [
    "## Model Evaluation"
   ]
  },
  {
   "cell_type": "code",
   "execution_count": null,
   "id": "5e294b65",
   "metadata": {},
   "outputs": [],
   "source": [
    "# Predict on the test set\n",
    "y_pred = knn.predict(X_test)\n",
    "\n",
    "# Generate confusion matrix\n",
    "cm = confusion_matrix(y_test, y_pred)\n",
    "\n",
    "# Plot confusion matrix as a heatmap\n",
    "plt.figure(figsize=(6, 5))\n",
    "sns.heatmap(cm, \n",
    "            annot=True, \n",
    "            fmt='d', \n",
    "            cmap='Blues', \n",
    "            xticklabels=knn.classes_, \n",
    "            yticklabels=knn.classes_,\n",
    "            cbar=False)\n",
    "plt.xlabel('Predicted')\n",
    "plt.ylabel('Actual')\n",
    "plt.title('Confusion Matrix')\n",
    "plt.show()\n",
    "\n",
    "# Print classification report\n",
    "print('\\nClassification report:\\n', classification_report(y_test, y_pred))"
   ]
  },
  {
   "cell_type": "markdown",
   "id": "2a9d924a",
   "metadata": {},
   "source": [
    "### Jupyter notebook --footer info-- (please always provide this at the end of each notebook)"
   ]
  },
  {
   "cell_type": "code",
   "execution_count": null,
   "id": "08065ff7",
   "metadata": {},
   "outputs": [],
   "source": [
    "import os\n",
    "import platform\n",
    "import socket\n",
    "from platform import python_version\n",
    "from datetime import datetime\n",
    "\n",
    "print('-----------------------------------')\n",
    "print(os.name.upper())\n",
    "print(platform.system(), '|', platform.release())\n",
    "print('Datetime:', datetime.now().strftime(\"%Y-%m-%d %H:%M:%S\"))\n",
    "print('Python Version:', python_version())\n",
    "print('-----------------------------------')"
   ]
  }
 ],
 "metadata": {
  "kernelspec": {
   "display_name": "mlenv",
   "language": "python",
   "name": "python3"
  },
  "language_info": {
   "codemirror_mode": {
    "name": "ipython",
    "version": 3
   },
   "file_extension": ".py",
   "mimetype": "text/x-python",
   "name": "python",
   "nbconvert_exporter": "python",
   "pygments_lexer": "ipython3",
   "version": "3.11.9"
  }
 },
 "nbformat": 4,
 "nbformat_minor": 5
}
