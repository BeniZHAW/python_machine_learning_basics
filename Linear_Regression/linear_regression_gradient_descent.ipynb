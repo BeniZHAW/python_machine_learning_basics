{
 "cells": [
  {
   "cell_type": "markdown",
   "metadata": {},
   "source": [
    "# Linear regression using Batch Gradient Descent"
   ]
  },
  {
   "cell_type": "markdown",
   "metadata": {},
   "source": [
    "## Libraries and Settings"
   ]
  },
  {
   "cell_type": "code",
   "execution_count": 1,
   "metadata": {},
   "outputs": [],
   "source": [
    "import os\n",
    "import sys\n",
    "import numpy as np\n",
    "import matplotlib.pyplot as plt\n",
    "\n",
    "import sklearn\n",
    "from sklearn.linear_model import LinearRegression\n",
    "assert sklearn.__version__ >= \"0.20\"\n",
    "\n",
    "# To make this notebook's output stable across runs\n",
    "np.random.seed(42)\n",
    "\n",
    "# Ignore warnings\n",
    "import warnings\n",
    "warnings.filterwarnings(action=\"ignore\")"
   ]
  },
  {
   "cell_type": "markdown",
   "metadata": {},
   "source": [
    "# Linear regression Do-It-Yourself"
   ]
  },
  {
   "cell_type": "code",
   "execution_count": null,
   "metadata": {},
   "outputs": [],
   "source": [
    "X = 5 * np.random.rand(100, 1) \n",
    "y = 1 + 4 * X + 3*np.random.randn(100, 1)\n",
    "\n",
    "plt.scatter(X, y, color = 'black')\n",
    "plt.xlabel(\"$x$\", fontsize=18)\n",
    "plt.ylabel(\"$y$\", rotation=0, fontsize=18)\n",
    "plt.axis([0, 5, 0, 20])\n",
    "plt.show()"
   ]
  },
  {
   "cell_type": "code",
   "execution_count": null,
   "metadata": {},
   "outputs": [],
   "source": [
    "# Sample data\n",
    "x_new = np.linspace(0, 5, 100)\n",
    "\n",
    "# Make a guess for theta_0 and theta_1\n",
    "theta_0 = 0.0 # Please make a better guess for theta_0\n",
    "theta_1 = 1.0 # Please make a better guess for theta_1\n",
    "\n",
    "y_hyp =  + theta_0 + theta_1 * x_new\n",
    "\n",
    "# Plot data an guess of theta_1 & theta_0\n",
    "plt.scatter(X, y, color = 'black' )\n",
    "plt.plot(x_new, y_hyp, color = 'red', lw = 2)\n",
    "plt.xlabel(\"$x$\", fontsize=18)\n",
    "plt.ylabel(\"$y$\", rotation=0, fontsize=18)\n",
    "plt.axis([0, 5, 0, 20])\n",
    "plt.show()\n"
   ]
  },
  {
   "cell_type": "markdown",
   "metadata": {},
   "source": [
    "# Linear regression using batch gradient descent"
   ]
  },
  {
   "cell_type": "code",
   "execution_count": null,
   "metadata": {},
   "outputs": [],
   "source": [
    "# Learning rate\n",
    "eta = 0.1\n",
    "\n",
    "n_iterations = 1000\n",
    "N = 100\n",
    "\n",
    "theta_1 = np.random.randn(1)\n",
    "theta_0 = np.random.randn(1)\n",
    "\n",
    "cum_theta1=[]\n",
    "cum_theta0=[]\n",
    "\n",
    "print(\"theta_0: \", theta_0)\n",
    "print(\"theta_1: \", theta_1)"
   ]
  },
  {
   "cell_type": "code",
   "execution_count": null,
   "metadata": {},
   "outputs": [],
   "source": [
    "for iteration in range(n_iterations):\n",
    "    cum_theta0.append(theta_0)\n",
    "    cum_theta1.append(theta_1)\n",
    "    \n",
    "    gradient_theta_0 = 1/N * np.sum((theta_1*X + theta_0 - y))\n",
    "    gradient_theta_1 = 1/N * np.sum((theta_1*X + theta_0 - y)*X)\n",
    "\n",
    "    theta_0 = theta_0 - eta * gradient_theta_0\n",
    "    theta_1 = theta_1 - eta * gradient_theta_1\n",
    "\n",
    "\n",
    "print(\"theta_0: \", theta_0)\n",
    "print(\"theta_1: \", theta_1)"
   ]
  },
  {
   "cell_type": "code",
   "execution_count": null,
   "metadata": {},
   "outputs": [],
   "source": [
    "plt.plot(cum_theta0, 'r.')\n",
    "plt.plot(cum_theta1, 'g.')\n",
    "plt.grid()"
   ]
  },
  {
   "cell_type": "code",
   "execution_count": null,
   "metadata": {},
   "outputs": [],
   "source": [
    "lin_reg = LinearRegression()\n",
    "lin_reg.fit(X, y)\n",
    "print(\"theta_1: \", lin_reg.coef_)\n",
    "print(\"theta_0: \", lin_reg.intercept_)"
   ]
  },
  {
   "cell_type": "code",
   "execution_count": null,
   "metadata": {},
   "outputs": [],
   "source": [
    "ypred_exact = lin_reg.coef_ * X + lin_reg.intercept_\n",
    "\n",
    "plt.scatter(X, y, color = 'black' )\n",
    "plt.plot(X, ypred_exact, color = 'red', lw = 4)\n",
    "plt.xlabel(\"$x$\", fontsize=18)\n",
    "plt.ylabel(\"$y$\", rotation=0, fontsize=18)\n",
    "plt.axis([0, 5, 0, 20])\n",
    "plt.show()"
   ]
  },
  {
   "cell_type": "markdown",
   "metadata": {},
   "source": [
    "### Jupyter notebook --footer info-- (please always provide this at the end of each notebook)"
   ]
  },
  {
   "cell_type": "code",
   "execution_count": null,
   "metadata": {},
   "outputs": [],
   "source": [
    "import os\n",
    "import platform\n",
    "import socket\n",
    "from platform import python_version\n",
    "from datetime import datetime\n",
    "\n",
    "print('-----------------------------------')\n",
    "print(os.name.upper())\n",
    "print(platform.system(), '|', platform.release())\n",
    "print('Datetime:', datetime.now().strftime(\"%Y-%m-%d %H:%M:%S\"))\n",
    "print('Python Version:', python_version())\n",
    "print('-----------------------------------')"
   ]
  }
 ],
 "metadata": {
  "kernelspec": {
   "display_name": "mlenv",
   "language": "python",
   "name": "python3"
  },
  "language_info": {
   "codemirror_mode": {
    "name": "ipython",
    "version": 3
   },
   "file_extension": ".py",
   "mimetype": "text/x-python",
   "name": "python",
   "nbconvert_exporter": "python",
   "pygments_lexer": "ipython3",
   "version": "3.11.9"
  },
  "nav_menu": {},
  "toc": {
   "navigate_menu": true,
   "number_sections": true,
   "sideBar": true,
   "threshold": 6,
   "toc_cell": false,
   "toc_section_display": "block",
   "toc_window_display": false
  }
 },
 "nbformat": 4,
 "nbformat_minor": 4
}
