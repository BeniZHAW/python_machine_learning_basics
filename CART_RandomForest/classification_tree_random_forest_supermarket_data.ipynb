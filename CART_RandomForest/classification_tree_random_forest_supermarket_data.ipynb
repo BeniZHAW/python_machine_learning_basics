{
 "cells": [
  {
   "cell_type": "markdown",
   "id": "a59b1799",
   "metadata": {},
   "source": [
    "# Classification analysis (supermarket data)"
   ]
  },
  {
   "cell_type": "markdown",
   "id": "8ca19f50",
   "metadata": {},
   "source": [
    "## Libraries and settings"
   ]
  },
  {
   "cell_type": "code",
   "execution_count": 1,
   "id": "2406c857",
   "metadata": {},
   "outputs": [
    {
     "name": "stdout",
     "output_type": "stream",
     "text": [
      "u:\\Lektionen\\GitHub_Repositories\\python_machine_learning_basics\\CART_RandomForest\n"
     ]
    }
   ],
   "source": [
    "# Libraries\n",
    "import os\n",
    "import numpy as np\n",
    "import pandas as pd\n",
    "import seaborn as sns\n",
    "import matplotlib.pyplot as plt\n",
    "from IPython.display import Image\n",
    "\n",
    "from sklearn import tree\n",
    "from sklearn.metrics import RocCurveDisplay\n",
    "from sklearn.tree import DecisionTreeClassifier\n",
    "from sklearn.ensemble import RandomForestClassifier\n",
    "from sklearn.model_selection import train_test_split\n",
    "from sklearn.metrics import classification_report, confusion_matrix\n",
    "\n",
    "# Ignore warnings\n",
    "import warnings\n",
    "warnings.filterwarnings('ignore')\n",
    "\n",
    "# Show current working directory\n",
    "print(os.getcwd())"
   ]
  },
  {
   "cell_type": "markdown",
   "id": "3874c706",
   "metadata": {},
   "source": [
    "## Import supermarkets data"
   ]
  },
  {
   "cell_type": "code",
   "execution_count": 2,
   "id": "9d01b013",
   "metadata": {},
   "outputs": [
    {
     "name": "stdout",
     "output_type": "stream",
     "text": [
      "(3242, 10)\n"
     ]
    },
    {
     "data": {
      "text/html": [
       "<div>\n",
       "<style scoped>\n",
       "    .dataframe tbody tr th:only-of-type {\n",
       "        vertical-align: middle;\n",
       "    }\n",
       "\n",
       "    .dataframe tbody tr th {\n",
       "        vertical-align: top;\n",
       "    }\n",
       "\n",
       "    .dataframe thead th {\n",
       "        text-align: right;\n",
       "    }\n",
       "</style>\n",
       "<table border=\"1\" class=\"dataframe\">\n",
       "  <thead>\n",
       "    <tr style=\"text-align: right;\">\n",
       "      <th></th>\n",
       "      <th>id</th>\n",
       "      <th>bfs_name</th>\n",
       "      <th>bfs_number</th>\n",
       "      <th>lat</th>\n",
       "      <th>lon</th>\n",
       "      <th>brand</th>\n",
       "      <th>pop</th>\n",
       "      <th>pop_dens</th>\n",
       "      <th>frg_pct</th>\n",
       "      <th>emp</th>\n",
       "    </tr>\n",
       "  </thead>\n",
       "  <tbody>\n",
       "    <tr>\n",
       "      <th>0</th>\n",
       "      <td>33126515</td>\n",
       "      <td>Schänis</td>\n",
       "      <td>3315</td>\n",
       "      <td>47.155616</td>\n",
       "      <td>9.037915</td>\n",
       "      <td>SPAR</td>\n",
       "      <td>3876</td>\n",
       "      <td>97.142857</td>\n",
       "      <td>13.054696</td>\n",
       "      <td>1408.0</td>\n",
       "    </tr>\n",
       "    <tr>\n",
       "      <th>1</th>\n",
       "      <td>280130028</td>\n",
       "      <td>Schänis</td>\n",
       "      <td>3315</td>\n",
       "      <td>47.155492</td>\n",
       "      <td>9.039666</td>\n",
       "      <td>ALDI</td>\n",
       "      <td>3876</td>\n",
       "      <td>97.142857</td>\n",
       "      <td>13.054696</td>\n",
       "      <td>1408.0</td>\n",
       "    </tr>\n",
       "    <tr>\n",
       "      <th>2</th>\n",
       "      <td>6122906632</td>\n",
       "      <td>Schänis</td>\n",
       "      <td>3315</td>\n",
       "      <td>47.158959</td>\n",
       "      <td>9.044477</td>\n",
       "      <td>DENNER</td>\n",
       "      <td>3876</td>\n",
       "      <td>97.142857</td>\n",
       "      <td>13.054696</td>\n",
       "      <td>1408.0</td>\n",
       "    </tr>\n",
       "    <tr>\n",
       "      <th>3</th>\n",
       "      <td>9019298862</td>\n",
       "      <td>Schänis</td>\n",
       "      <td>3315</td>\n",
       "      <td>47.155185</td>\n",
       "      <td>9.038472</td>\n",
       "      <td>LIDL</td>\n",
       "      <td>3876</td>\n",
       "      <td>97.142857</td>\n",
       "      <td>13.054696</td>\n",
       "      <td>1408.0</td>\n",
       "    </tr>\n",
       "    <tr>\n",
       "      <th>4</th>\n",
       "      <td>36726161</td>\n",
       "      <td>Uznach</td>\n",
       "      <td>3339</td>\n",
       "      <td>47.226191</td>\n",
       "      <td>8.980329</td>\n",
       "      <td>MIGROS</td>\n",
       "      <td>6489</td>\n",
       "      <td>860.610080</td>\n",
       "      <td>27.862537</td>\n",
       "      <td>3500.0</td>\n",
       "    </tr>\n",
       "  </tbody>\n",
       "</table>\n",
       "</div>"
      ],
      "text/plain": [
       "           id bfs_name  bfs_number        lat       lon   brand   pop  \\\n",
       "0    33126515  Schänis        3315  47.155616  9.037915    SPAR  3876   \n",
       "1   280130028  Schänis        3315  47.155492  9.039666    ALDI  3876   \n",
       "2  6122906632  Schänis        3315  47.158959  9.044477  DENNER  3876   \n",
       "3  9019298862  Schänis        3315  47.155185  9.038472    LIDL  3876   \n",
       "4    36726161   Uznach        3339  47.226191  8.980329  MIGROS  6489   \n",
       "\n",
       "     pop_dens    frg_pct     emp  \n",
       "0   97.142857  13.054696  1408.0  \n",
       "1   97.142857  13.054696  1408.0  \n",
       "2   97.142857  13.054696  1408.0  \n",
       "3   97.142857  13.054696  1408.0  \n",
       "4  860.610080  27.862537  3500.0  "
      ]
     },
     "execution_count": 2,
     "metadata": {},
     "output_type": "execute_result"
    }
   ],
   "source": [
    "# Read and select variables\n",
    "columns = ['id',\n",
    "           'bfs_name',\n",
    "           'bfs_number',\n",
    "           'lat',\n",
    "           'lon',\n",
    "           'brand',\n",
    "           'pop',\n",
    "           'pop_dens',\n",
    "           'frg_pct',\n",
    "           'emp',\n",
    "          ]\n",
    "df_supermarkets_orig = pd.read_csv(\"supermarkets_data_enriched.csv\", \n",
    "                                   sep=\",\", \n",
    "                                   encoding=\"utf-8\")[columns]\n",
    "\n",
    "# Number of rows and columns\n",
    "print(df_supermarkets_orig.shape)\n",
    "\n",
    "# Brand to upper case letters\n",
    "df_supermarkets_orig['brand'] = df_supermarkets_orig['brand'].str.upper()\n",
    "\n",
    "# First records\n",
    "df_supermarkets_orig.head(5)"
   ]
  },
  {
   "cell_type": "markdown",
   "id": "504180cb",
   "metadata": {},
   "source": [
    "## Count and remove missing values"
   ]
  },
  {
   "cell_type": "code",
   "execution_count": 3,
   "id": "3c48e42d",
   "metadata": {},
   "outputs": [
    {
     "name": "stdout",
     "output_type": "stream",
     "text": [
      "id               0\n",
      "bfs_name         0\n",
      "bfs_number       0\n",
      "lat              0\n",
      "lon              0\n",
      "brand         1233\n",
      "pop              0\n",
      "pop_dens         0\n",
      "frg_pct          0\n",
      "emp             45\n",
      "dtype: int64\n"
     ]
    },
    {
     "data": {
      "text/html": [
       "<div>\n",
       "<style scoped>\n",
       "    .dataframe tbody tr th:only-of-type {\n",
       "        vertical-align: middle;\n",
       "    }\n",
       "\n",
       "    .dataframe tbody tr th {\n",
       "        vertical-align: top;\n",
       "    }\n",
       "\n",
       "    .dataframe thead th {\n",
       "        text-align: right;\n",
       "    }\n",
       "</style>\n",
       "<table border=\"1\" class=\"dataframe\">\n",
       "  <thead>\n",
       "    <tr style=\"text-align: right;\">\n",
       "      <th></th>\n",
       "      <th>id</th>\n",
       "      <th>bfs_name</th>\n",
       "      <th>bfs_number</th>\n",
       "      <th>lat</th>\n",
       "      <th>lon</th>\n",
       "      <th>brand</th>\n",
       "      <th>pop</th>\n",
       "      <th>pop_dens</th>\n",
       "      <th>frg_pct</th>\n",
       "      <th>emp</th>\n",
       "    </tr>\n",
       "  </thead>\n",
       "  <tbody>\n",
       "    <tr>\n",
       "      <th>0</th>\n",
       "      <td>33126515</td>\n",
       "      <td>Schänis</td>\n",
       "      <td>3315</td>\n",
       "      <td>47.155616</td>\n",
       "      <td>9.037915</td>\n",
       "      <td>SPAR</td>\n",
       "      <td>3876</td>\n",
       "      <td>97.142857</td>\n",
       "      <td>13.054696</td>\n",
       "      <td>1408.0</td>\n",
       "    </tr>\n",
       "    <tr>\n",
       "      <th>1</th>\n",
       "      <td>280130028</td>\n",
       "      <td>Schänis</td>\n",
       "      <td>3315</td>\n",
       "      <td>47.155492</td>\n",
       "      <td>9.039666</td>\n",
       "      <td>ALDI</td>\n",
       "      <td>3876</td>\n",
       "      <td>97.142857</td>\n",
       "      <td>13.054696</td>\n",
       "      <td>1408.0</td>\n",
       "    </tr>\n",
       "    <tr>\n",
       "      <th>2</th>\n",
       "      <td>6122906632</td>\n",
       "      <td>Schänis</td>\n",
       "      <td>3315</td>\n",
       "      <td>47.158959</td>\n",
       "      <td>9.044477</td>\n",
       "      <td>DENNER</td>\n",
       "      <td>3876</td>\n",
       "      <td>97.142857</td>\n",
       "      <td>13.054696</td>\n",
       "      <td>1408.0</td>\n",
       "    </tr>\n",
       "    <tr>\n",
       "      <th>3</th>\n",
       "      <td>9019298862</td>\n",
       "      <td>Schänis</td>\n",
       "      <td>3315</td>\n",
       "      <td>47.155185</td>\n",
       "      <td>9.038472</td>\n",
       "      <td>LIDL</td>\n",
       "      <td>3876</td>\n",
       "      <td>97.142857</td>\n",
       "      <td>13.054696</td>\n",
       "      <td>1408.0</td>\n",
       "    </tr>\n",
       "    <tr>\n",
       "      <th>4</th>\n",
       "      <td>36726161</td>\n",
       "      <td>Uznach</td>\n",
       "      <td>3339</td>\n",
       "      <td>47.226191</td>\n",
       "      <td>8.980329</td>\n",
       "      <td>MIGROS</td>\n",
       "      <td>6489</td>\n",
       "      <td>860.610080</td>\n",
       "      <td>27.862537</td>\n",
       "      <td>3500.0</td>\n",
       "    </tr>\n",
       "    <tr>\n",
       "      <th>...</th>\n",
       "      <td>...</td>\n",
       "      <td>...</td>\n",
       "      <td>...</td>\n",
       "      <td>...</td>\n",
       "      <td>...</td>\n",
       "      <td>...</td>\n",
       "      <td>...</td>\n",
       "      <td>...</td>\n",
       "      <td>...</td>\n",
       "      <td>...</td>\n",
       "    </tr>\n",
       "    <tr>\n",
       "      <th>3230</th>\n",
       "      <td>9584570723</td>\n",
       "      <td>Seedorf (UR)</td>\n",
       "      <td>1214</td>\n",
       "      <td>46.881529</td>\n",
       "      <td>8.615975</td>\n",
       "      <td>VOLG</td>\n",
       "      <td>2051</td>\n",
       "      <td>106.379668</td>\n",
       "      <td>6.972209</td>\n",
       "      <td>703.0</td>\n",
       "    </tr>\n",
       "    <tr>\n",
       "      <th>3231</th>\n",
       "      <td>9593770082</td>\n",
       "      <td>Bäretswil</td>\n",
       "      <td>111</td>\n",
       "      <td>47.339296</td>\n",
       "      <td>8.839173</td>\n",
       "      <td>VOLG</td>\n",
       "      <td>5053</td>\n",
       "      <td>227.715187</td>\n",
       "      <td>10.152385</td>\n",
       "      <td>1647.0</td>\n",
       "    </tr>\n",
       "    <tr>\n",
       "      <th>3233</th>\n",
       "      <td>9624205242</td>\n",
       "      <td>Buch am Irchel</td>\n",
       "      <td>24</td>\n",
       "      <td>47.549645</td>\n",
       "      <td>8.618709</td>\n",
       "      <td>VOLG</td>\n",
       "      <td>979</td>\n",
       "      <td>95.886386</td>\n",
       "      <td>7.252298</td>\n",
       "      <td>200.0</td>\n",
       "    </tr>\n",
       "    <tr>\n",
       "      <th>3238</th>\n",
       "      <td>9950926547</td>\n",
       "      <td>Marbach (SG)</td>\n",
       "      <td>3253</td>\n",
       "      <td>47.392404</td>\n",
       "      <td>9.569855</td>\n",
       "      <td>VOLG</td>\n",
       "      <td>2110</td>\n",
       "      <td>481.735160</td>\n",
       "      <td>18.578199</td>\n",
       "      <td>678.0</td>\n",
       "    </tr>\n",
       "    <tr>\n",
       "      <th>3239</th>\n",
       "      <td>9963973121</td>\n",
       "      <td>Rüte</td>\n",
       "      <td>3103</td>\n",
       "      <td>47.321761</td>\n",
       "      <td>9.426943</td>\n",
       "      <td>VOLG</td>\n",
       "      <td>3692</td>\n",
       "      <td>90.445860</td>\n",
       "      <td>5.444204</td>\n",
       "      <td>1310.0</td>\n",
       "    </tr>\n",
       "  </tbody>\n",
       "</table>\n",
       "<p>1979 rows × 10 columns</p>\n",
       "</div>"
      ],
      "text/plain": [
       "              id        bfs_name  bfs_number        lat       lon   brand  \\\n",
       "0       33126515         Schänis        3315  47.155616  9.037915    SPAR   \n",
       "1      280130028         Schänis        3315  47.155492  9.039666    ALDI   \n",
       "2     6122906632         Schänis        3315  47.158959  9.044477  DENNER   \n",
       "3     9019298862         Schänis        3315  47.155185  9.038472    LIDL   \n",
       "4       36726161          Uznach        3339  47.226191  8.980329  MIGROS   \n",
       "...          ...             ...         ...        ...       ...     ...   \n",
       "3230  9584570723    Seedorf (UR)        1214  46.881529  8.615975    VOLG   \n",
       "3231  9593770082       Bäretswil         111  47.339296  8.839173    VOLG   \n",
       "3233  9624205242  Buch am Irchel          24  47.549645  8.618709    VOLG   \n",
       "3238  9950926547    Marbach (SG)        3253  47.392404  9.569855    VOLG   \n",
       "3239  9963973121            Rüte        3103  47.321761  9.426943    VOLG   \n",
       "\n",
       "       pop    pop_dens    frg_pct     emp  \n",
       "0     3876   97.142857  13.054696  1408.0  \n",
       "1     3876   97.142857  13.054696  1408.0  \n",
       "2     3876   97.142857  13.054696  1408.0  \n",
       "3     3876   97.142857  13.054696  1408.0  \n",
       "4     6489  860.610080  27.862537  3500.0  \n",
       "...    ...         ...        ...     ...  \n",
       "3230  2051  106.379668   6.972209   703.0  \n",
       "3231  5053  227.715187  10.152385  1647.0  \n",
       "3233   979   95.886386   7.252298   200.0  \n",
       "3238  2110  481.735160  18.578199   678.0  \n",
       "3239  3692   90.445860   5.444204  1310.0  \n",
       "\n",
       "[1979 rows x 10 columns]"
      ]
     },
     "execution_count": 3,
     "metadata": {},
     "output_type": "execute_result"
    }
   ],
   "source": [
    "# Count missing values\n",
    "print(df_supermarkets_orig.isna().sum())\n",
    "\n",
    "# Remove missing values\n",
    "df_supermarkets = df_supermarkets_orig.dropna()\n",
    "df_supermarkets"
   ]
  },
  {
   "cell_type": "markdown",
   "id": "40c71fac",
   "metadata": {},
   "source": [
    "## Subset with selected brands"
   ]
  },
  {
   "cell_type": "code",
   "execution_count": 4,
   "id": "11c101e2",
   "metadata": {},
   "outputs": [
    {
     "name": "stdout",
     "output_type": "stream",
     "text": [
      "(696, 10)\n"
     ]
    },
    {
     "data": {
      "text/html": [
       "<div>\n",
       "<style scoped>\n",
       "    .dataframe tbody tr th:only-of-type {\n",
       "        vertical-align: middle;\n",
       "    }\n",
       "\n",
       "    .dataframe tbody tr th {\n",
       "        vertical-align: top;\n",
       "    }\n",
       "\n",
       "    .dataframe thead th {\n",
       "        text-align: right;\n",
       "    }\n",
       "</style>\n",
       "<table border=\"1\" class=\"dataframe\">\n",
       "  <thead>\n",
       "    <tr style=\"text-align: right;\">\n",
       "      <th></th>\n",
       "      <th>id</th>\n",
       "      <th>bfs_name</th>\n",
       "      <th>bfs_number</th>\n",
       "      <th>lat</th>\n",
       "      <th>lon</th>\n",
       "      <th>brand</th>\n",
       "      <th>pop</th>\n",
       "      <th>pop_dens</th>\n",
       "      <th>frg_pct</th>\n",
       "      <th>emp</th>\n",
       "    </tr>\n",
       "  </thead>\n",
       "  <tbody>\n",
       "    <tr>\n",
       "      <th>4</th>\n",
       "      <td>36726161</td>\n",
       "      <td>Uznach</td>\n",
       "      <td>3339</td>\n",
       "      <td>47.226191</td>\n",
       "      <td>8.980329</td>\n",
       "      <td>MIGROS</td>\n",
       "      <td>6489</td>\n",
       "      <td>860.610080</td>\n",
       "      <td>27.862537</td>\n",
       "      <td>3500.0</td>\n",
       "    </tr>\n",
       "    <tr>\n",
       "      <th>8</th>\n",
       "      <td>48932835</td>\n",
       "      <td>Zürich</td>\n",
       "      <td>261</td>\n",
       "      <td>47.375020</td>\n",
       "      <td>8.522895</td>\n",
       "      <td>MIGROS</td>\n",
       "      <td>420217</td>\n",
       "      <td>4778.994655</td>\n",
       "      <td>32.458468</td>\n",
       "      <td>491193.0</td>\n",
       "    </tr>\n",
       "    <tr>\n",
       "      <th>11</th>\n",
       "      <td>83330862</td>\n",
       "      <td>Zürich</td>\n",
       "      <td>261</td>\n",
       "      <td>47.344749</td>\n",
       "      <td>8.529981</td>\n",
       "      <td>MIGROS</td>\n",
       "      <td>420217</td>\n",
       "      <td>4778.994655</td>\n",
       "      <td>32.458468</td>\n",
       "      <td>491193.0</td>\n",
       "    </tr>\n",
       "    <tr>\n",
       "      <th>12</th>\n",
       "      <td>119249170</td>\n",
       "      <td>Zürich</td>\n",
       "      <td>261</td>\n",
       "      <td>47.375255</td>\n",
       "      <td>8.536107</td>\n",
       "      <td>MIGROS</td>\n",
       "      <td>420217</td>\n",
       "      <td>4778.994655</td>\n",
       "      <td>32.458468</td>\n",
       "      <td>491193.0</td>\n",
       "    </tr>\n",
       "    <tr>\n",
       "      <th>15</th>\n",
       "      <td>262400822</td>\n",
       "      <td>Zürich</td>\n",
       "      <td>261</td>\n",
       "      <td>47.364072</td>\n",
       "      <td>8.530945</td>\n",
       "      <td>MIGROS</td>\n",
       "      <td>420217</td>\n",
       "      <td>4778.994655</td>\n",
       "      <td>32.458468</td>\n",
       "      <td>491193.0</td>\n",
       "    </tr>\n",
       "  </tbody>\n",
       "</table>\n",
       "</div>"
      ],
      "text/plain": [
       "           id bfs_name  bfs_number        lat       lon   brand     pop  \\\n",
       "4    36726161   Uznach        3339  47.226191  8.980329  MIGROS    6489   \n",
       "8    48932835   Zürich         261  47.375020  8.522895  MIGROS  420217   \n",
       "11   83330862   Zürich         261  47.344749  8.529981  MIGROS  420217   \n",
       "12  119249170   Zürich         261  47.375255  8.536107  MIGROS  420217   \n",
       "15  262400822   Zürich         261  47.364072  8.530945  MIGROS  420217   \n",
       "\n",
       "       pop_dens    frg_pct       emp  \n",
       "4    860.610080  27.862537    3500.0  \n",
       "8   4778.994655  32.458468  491193.0  \n",
       "11  4778.994655  32.458468  491193.0  \n",
       "12  4778.994655  32.458468  491193.0  \n",
       "15  4778.994655  32.458468  491193.0  "
      ]
     },
     "execution_count": 4,
     "metadata": {},
     "output_type": "execute_result"
    }
   ],
   "source": [
    "df_sub = df_supermarkets.loc[df_supermarkets['brand'].isin(['MIGROS', 'VOLG'])]\n",
    "print(df_sub.shape)\n",
    "df_sub.head()"
   ]
  },
  {
   "cell_type": "markdown",
   "id": "1188266f",
   "metadata": {},
   "source": [
    "## Pivot table"
   ]
  },
  {
   "cell_type": "code",
   "execution_count": 5,
   "id": "218415b2",
   "metadata": {},
   "outputs": [
    {
     "data": {
      "text/html": [
       "<div>\n",
       "<style scoped>\n",
       "    .dataframe tbody tr th:only-of-type {\n",
       "        vertical-align: middle;\n",
       "    }\n",
       "\n",
       "    .dataframe tbody tr th {\n",
       "        vertical-align: top;\n",
       "    }\n",
       "\n",
       "    .dataframe thead tr th {\n",
       "        text-align: left;\n",
       "    }\n",
       "\n",
       "    .dataframe thead tr:last-of-type th {\n",
       "        text-align: right;\n",
       "    }\n",
       "</style>\n",
       "<table border=\"1\" class=\"dataframe\">\n",
       "  <thead>\n",
       "    <tr>\n",
       "      <th></th>\n",
       "      <th colspan=\"2\" halign=\"left\">emp</th>\n",
       "      <th colspan=\"2\" halign=\"left\">frg_pct</th>\n",
       "      <th colspan=\"2\" halign=\"left\">lat</th>\n",
       "      <th colspan=\"2\" halign=\"left\">lon</th>\n",
       "      <th colspan=\"2\" halign=\"left\">pop</th>\n",
       "      <th colspan=\"2\" halign=\"left\">pop_dens</th>\n",
       "    </tr>\n",
       "    <tr>\n",
       "      <th></th>\n",
       "      <th>count</th>\n",
       "      <th>mean</th>\n",
       "      <th>count</th>\n",
       "      <th>mean</th>\n",
       "      <th>count</th>\n",
       "      <th>mean</th>\n",
       "      <th>count</th>\n",
       "      <th>mean</th>\n",
       "      <th>count</th>\n",
       "      <th>mean</th>\n",
       "      <th>count</th>\n",
       "      <th>mean</th>\n",
       "    </tr>\n",
       "    <tr>\n",
       "      <th>brand</th>\n",
       "      <th></th>\n",
       "      <th></th>\n",
       "      <th></th>\n",
       "      <th></th>\n",
       "      <th></th>\n",
       "      <th></th>\n",
       "      <th></th>\n",
       "      <th></th>\n",
       "      <th></th>\n",
       "      <th></th>\n",
       "      <th></th>\n",
       "      <th></th>\n",
       "    </tr>\n",
       "  </thead>\n",
       "  <tbody>\n",
       "    <tr>\n",
       "      <th>MIGROS</th>\n",
       "      <td>486</td>\n",
       "      <td>60264.0</td>\n",
       "      <td>486</td>\n",
       "      <td>28.0</td>\n",
       "      <td>486</td>\n",
       "      <td>47.0</td>\n",
       "      <td>486</td>\n",
       "      <td>8.0</td>\n",
       "      <td>486</td>\n",
       "      <td>58452.0</td>\n",
       "      <td>486</td>\n",
       "      <td>2016.0</td>\n",
       "    </tr>\n",
       "    <tr>\n",
       "      <th>VOLG</th>\n",
       "      <td>210</td>\n",
       "      <td>2382.0</td>\n",
       "      <td>210</td>\n",
       "      <td>16.0</td>\n",
       "      <td>210</td>\n",
       "      <td>47.0</td>\n",
       "      <td>210</td>\n",
       "      <td>9.0</td>\n",
       "      <td>210</td>\n",
       "      <td>4811.0</td>\n",
       "      <td>210</td>\n",
       "      <td>363.0</td>\n",
       "    </tr>\n",
       "  </tbody>\n",
       "</table>\n",
       "</div>"
      ],
      "text/plain": [
       "         emp          frg_pct         lat         lon        pop           \\\n",
       "       count     mean   count  mean count  mean count mean count     mean   \n",
       "brand                                                                       \n",
       "MIGROS   486  60264.0     486  28.0   486  47.0   486  8.0   486  58452.0   \n",
       "VOLG     210   2382.0     210  16.0   210  47.0   210  9.0   210   4811.0   \n",
       "\n",
       "       pop_dens          \n",
       "          count    mean  \n",
       "brand                    \n",
       "MIGROS      486  2016.0  \n",
       "VOLG        210   363.0  "
      ]
     },
     "execution_count": 5,
     "metadata": {},
     "output_type": "execute_result"
    }
   ],
   "source": [
    "# Using pivot_table to reshape the data and calculate means \n",
    "pd.pivot_table(df_sub[['lat',\n",
    "                       'lon',\n",
    "                       'brand',\n",
    "                       'pop',\n",
    "                       'pop_dens',\n",
    "                       'frg_pct',\n",
    "                       'emp']],\n",
    "                index=['brand'],\n",
    "                values=['lat', 'lon', 'pop', 'pop_dens', 'frg_pct', 'emp'],\n",
    "                aggfunc=(np.mean, 'count')).round(0)"
   ]
  },
  {
   "cell_type": "markdown",
   "id": "8454077a",
   "metadata": {},
   "source": [
    "## Classification Tree\n",
    "For details see: https://scikit-learn.org/stable/modules/generated/sklearn.tree.DecisionTreeClassifier.html"
   ]
  },
  {
   "cell_type": "markdown",
   "id": "33fdc652",
   "metadata": {},
   "source": [
    "### Create train and test samples (train = 80%, test = 20% of the data)"
   ]
  },
  {
   "cell_type": "code",
   "execution_count": 6,
   "id": "9ede480d",
   "metadata": {},
   "outputs": [
    {
     "name": "stdout",
     "output_type": "stream",
     "text": [
      "X_train:\n",
      "            lat       lon     pop      pop_dens    frg_pct       emp\n",
      "427   46.767777  9.062487    1728     17.891903   8.217593     725.0\n",
      "271   47.552670  7.592713  173232   7263.396226  37.955459  185432.0\n",
      "1149  46.203871  6.146234  203951  12810.992462  47.954656  186620.0\n",
      "2655  46.774599  9.207659    4757     35.638298  16.312802    3229.0\n",
      "2369  47.126317  7.246363    6872   4521.052632  26.062282    3185.0 \n",
      "\n",
      "y_train:\n",
      "427       VOLG\n",
      "271     MIGROS\n",
      "1149    MIGROS\n",
      "2655    MIGROS\n",
      "2369    MIGROS\n",
      "Name: brand, dtype: object\n"
     ]
    }
   ],
   "source": [
    "# Create train and test samples\n",
    "X_train, X_test, y_train, y_test = train_test_split(df_sub[['lat',\n",
    "                                                            'lon',\n",
    "                                                            'pop', \n",
    "                                                            'pop_dens', \n",
    "                                                            'frg_pct', \n",
    "                                                            'emp']],\n",
    "                                                    df_sub['brand'], \n",
    "                                                    test_size=0.20, \n",
    "                                                    random_state=42)\n",
    "\n",
    "# Show X_train\n",
    "print('X_train:')\n",
    "print(X_train.head(), '\\n')\n",
    "\n",
    "# Show y_train\n",
    "print('y_train:')\n",
    "print(y_train.head())"
   ]
  },
  {
   "cell_type": "markdown",
   "id": "d6cff87c",
   "metadata": {},
   "source": [
    "### Fit the classification tree model and make predictions"
   ]
  },
  {
   "cell_type": "code",
   "execution_count": 7,
   "id": "db24f230",
   "metadata": {},
   "outputs": [
    {
     "data": {
      "text/plain": [
       "array(['MIGROS', 'MIGROS', 'MIGROS', 'MIGROS', 'VOLG', 'MIGROS', 'MIGROS',\n",
       "       'MIGROS', 'VOLG', 'MIGROS', 'VOLG', 'MIGROS', 'MIGROS', 'MIGROS',\n",
       "       'MIGROS', 'VOLG', 'VOLG', 'VOLG', 'VOLG', 'VOLG', 'MIGROS',\n",
       "       'MIGROS', 'VOLG', 'MIGROS', 'MIGROS', 'VOLG', 'VOLG', 'MIGROS',\n",
       "       'VOLG', 'MIGROS', 'MIGROS', 'VOLG', 'MIGROS', 'MIGROS', 'MIGROS',\n",
       "       'VOLG', 'MIGROS', 'MIGROS', 'MIGROS', 'MIGROS', 'MIGROS', 'MIGROS',\n",
       "       'VOLG', 'VOLG', 'VOLG', 'MIGROS', 'VOLG', 'VOLG', 'MIGROS',\n",
       "       'MIGROS', 'MIGROS', 'MIGROS', 'MIGROS', 'MIGROS', 'MIGROS',\n",
       "       'MIGROS', 'VOLG', 'MIGROS', 'MIGROS', 'VOLG', 'MIGROS', 'MIGROS',\n",
       "       'MIGROS', 'MIGROS', 'MIGROS', 'MIGROS', 'MIGROS', 'MIGROS',\n",
       "       'MIGROS', 'MIGROS', 'MIGROS', 'MIGROS', 'MIGROS', 'MIGROS',\n",
       "       'MIGROS', 'VOLG', 'MIGROS', 'MIGROS', 'MIGROS', 'VOLG', 'VOLG',\n",
       "       'MIGROS', 'VOLG', 'MIGROS', 'MIGROS', 'MIGROS', 'MIGROS', 'MIGROS',\n",
       "       'MIGROS', 'MIGROS', 'MIGROS', 'VOLG', 'MIGROS', 'MIGROS', 'MIGROS',\n",
       "       'VOLG', 'MIGROS', 'VOLG', 'MIGROS', 'MIGROS', 'MIGROS', 'MIGROS',\n",
       "       'MIGROS', 'MIGROS', 'VOLG', 'MIGROS', 'MIGROS', 'MIGROS', 'VOLG',\n",
       "       'MIGROS', 'VOLG', 'VOLG', 'MIGROS', 'MIGROS', 'VOLG', 'MIGROS',\n",
       "       'VOLG', 'MIGROS', 'VOLG', 'MIGROS', 'VOLG', 'VOLG', 'MIGROS',\n",
       "       'VOLG', 'VOLG', 'MIGROS', 'VOLG', 'MIGROS', 'MIGROS', 'MIGROS',\n",
       "       'MIGROS', 'VOLG', 'MIGROS', 'MIGROS', 'MIGROS', 'MIGROS', 'MIGROS',\n",
       "       'MIGROS', 'MIGROS', 'MIGROS'], dtype=object)"
      ]
     },
     "execution_count": 7,
     "metadata": {},
     "output_type": "execute_result"
    }
   ],
   "source": [
    "# Initialize the classification tree model \n",
    "clf = DecisionTreeClassifier(random_state=20, \n",
    "                             max_depth=4)\n",
    "\n",
    "# Train the classification tree model \n",
    "clf = clf.fit(X_train, y_train)\n",
    "\n",
    "# Make model predictions\n",
    "y_pred = clf.predict(X_test)\n",
    "y_pred"
   ]
  },
  {
   "cell_type": "markdown",
   "id": "a28a20dd",
   "metadata": {},
   "source": [
    "### Show confusion matrix and classification report"
   ]
  },
  {
   "cell_type": "code",
   "execution_count": 8,
   "id": "de5355f0",
   "metadata": {},
   "outputs": [
    {
     "name": "stdout",
     "output_type": "stream",
     "text": [
      "Confusion matrix\n",
      "[[95 13]\n",
      " [ 4 28]] \n",
      "\n",
      "Classification report\n",
      "              precision    recall  f1-score   support\n",
      "\n",
      "      MIGROS       0.96      0.88      0.92       108\n",
      "        VOLG       0.68      0.88      0.77        32\n",
      "\n",
      "    accuracy                           0.88       140\n",
      "   macro avg       0.82      0.88      0.84       140\n",
      "weighted avg       0.90      0.88      0.88       140\n",
      "\n"
     ]
    }
   ],
   "source": [
    "# Confusion matrix\n",
    "print('Confusion matrix')\n",
    "print(confusion_matrix(y_test, y_pred), '\\n')\n",
    "\n",
    "# Classification report\n",
    "print('Classification report')\n",
    "print(classification_report(y_test, y_pred))"
   ]
  },
  {
   "cell_type": "markdown",
   "id": "9937202a",
   "metadata": {},
   "source": [
    "### Print text representation of the classification tree"
   ]
  },
  {
   "cell_type": "code",
   "execution_count": 9,
   "id": "4ffdb05f",
   "metadata": {},
   "outputs": [
    {
     "name": "stdout",
     "output_type": "stream",
     "text": [
      "|--- emp <= 1399.00\n",
      "|   |--- pop <= 2598.50\n",
      "|   |   |--- lat <= 46.35\n",
      "|   |   |   |--- emp <= 512.50\n",
      "|   |   |   |   |--- class: MIGROS\n",
      "|   |   |   |--- emp >  512.50\n",
      "|   |   |   |   |--- class: VOLG\n",
      "|   |   |--- lat >  46.35\n",
      "|   |   |   |--- emp <= 824.00\n",
      "|   |   |   |   |--- class: VOLG\n",
      "|   |   |   |--- emp >  824.00\n",
      "|   |   |   |   |--- class: VOLG\n",
      "|   |--- pop >  2598.50\n",
      "|   |   |--- lat <= 46.87\n",
      "|   |   |   |--- pop_dens <= 21.35\n",
      "|   |   |   |   |--- class: VOLG\n",
      "|   |   |   |--- pop_dens >  21.35\n",
      "|   |   |   |   |--- class: MIGROS\n",
      "|   |   |--- lat >  46.87\n",
      "|   |   |   |--- pop_dens <= 750.01\n",
      "|   |   |   |   |--- class: VOLG\n",
      "|   |   |   |--- pop_dens >  750.01\n",
      "|   |   |   |   |--- class: MIGROS\n",
      "|--- emp >  1399.00\n",
      "|   |--- lon <= 8.61\n",
      "|   |   |--- pop_dens <= 1418.86\n",
      "|   |   |   |--- lon <= 8.45\n",
      "|   |   |   |   |--- class: MIGROS\n",
      "|   |   |   |--- lon >  8.45\n",
      "|   |   |   |   |--- class: MIGROS\n",
      "|   |   |--- pop_dens >  1418.86\n",
      "|   |   |   |--- lat <= 47.46\n",
      "|   |   |   |   |--- class: MIGROS\n",
      "|   |   |   |--- lat >  47.46\n",
      "|   |   |   |   |--- class: MIGROS\n",
      "|   |--- lon >  8.61\n",
      "|   |   |--- frg_pct <= 23.20\n",
      "|   |   |   |--- emp <= 11267.50\n",
      "|   |   |   |   |--- class: VOLG\n",
      "|   |   |   |--- emp >  11267.50\n",
      "|   |   |   |   |--- class: MIGROS\n",
      "|   |   |--- frg_pct >  23.20\n",
      "|   |   |   |--- pop_dens <= 169.86\n",
      "|   |   |   |   |--- class: MIGROS\n",
      "|   |   |   |--- pop_dens >  169.86\n",
      "|   |   |   |   |--- class: MIGROS\n",
      "\n"
     ]
    }
   ],
   "source": [
    "# Text representation of the classification tree\n",
    "text_rep = tree.export_text(clf, \n",
    "                            feature_names=list(X_train.columns))\n",
    "\n",
    "# Print text_representation\n",
    "print(text_rep)"
   ]
  },
  {
   "cell_type": "markdown",
   "id": "381947af",
   "metadata": {},
   "source": [
    "## Visualize the classification tree"
   ]
  },
  {
   "cell_type": "code",
   "execution_count": 10,
   "id": "85f22840",
   "metadata": {},
   "outputs": [
    {
     "data": {
      "image/png": "[encoded data removed]",
      "text/plain": [
       "<Figure size 1400x600 with 1 Axes>"
      ]
     },
     "metadata": {},
     "output_type": "display_data"
    }
   ],
   "source": [
    "# For the meaning of numbers in boxes see root node\n",
    "fig = plt.figure(figsize=(14,6))\n",
    "tree_plot = tree.plot_tree(clf, \n",
    "                   feature_names=list(X_train.columns),  \n",
    "                   class_names=['MIGROS', 'VOLG'],\n",
    "                   filled=True,\n",
    "                   fontsize=7,\n",
    "                   label='root')"
   ]
  },
  {
   "cell_type": "markdown",
   "id": "55281fec",
   "metadata": {},
   "source": [
    "## Random Forest Classifier\n",
    "For details see: https://scikit-learn.org/stable/modules/generated/sklearn.ensemble.RandomForestClassifier.html"
   ]
  },
  {
   "cell_type": "markdown",
   "id": "5123f45e",
   "metadata": {},
   "source": [
    "### Create train and test samples (train = 80%, test = 20% of the data)"
   ]
  },
  {
   "cell_type": "code",
   "execution_count": 11,
   "id": "7141b2d8",
   "metadata": {},
   "outputs": [
    {
     "name": "stdout",
     "output_type": "stream",
     "text": [
      "X2_train:\n",
      "            lat       lon     pop      pop_dens    frg_pct       emp\n",
      "427   46.767777  9.062487    1728     17.891903   8.217593     725.0\n",
      "271   47.552670  7.592713  173232   7263.396226  37.955459  185432.0\n",
      "1149  46.203871  6.146234  203951  12810.992462  47.954656  186620.0\n",
      "2655  46.774599  9.207659    4757     35.638298  16.312802    3229.0\n",
      "2369  47.126317  7.246363    6872   4521.052632  26.062282    3185.0 \n",
      "\n",
      "y2_train:\n",
      "427       VOLG\n",
      "271     MIGROS\n",
      "1149    MIGROS\n",
      "2655    MIGROS\n",
      "2369    MIGROS\n",
      "Name: brand, dtype: object\n"
     ]
    }
   ],
   "source": [
    "# Create train and test samples\n",
    "X2_train, X2_test, y2_train, y2_test = train_test_split(df_sub[['lat',\n",
    "                                                                'lon',\n",
    "                                                                'pop', \n",
    "                                                                'pop_dens', \n",
    "                                                                'frg_pct', \n",
    "                                                                'emp']],\n",
    "                                                        df_sub['brand'], \n",
    "                                                        test_size=0.20, \n",
    "                                                        random_state=42)\n",
    "\n",
    "# Show X2_train\n",
    "print('X2_train:')\n",
    "print(X2_train.head(), '\\n')\n",
    "\n",
    "# Show y2_train\n",
    "print('y2_train:')\n",
    "print(y2_train.head())"
   ]
  },
  {
   "cell_type": "markdown",
   "id": "db15ac37",
   "metadata": {},
   "source": [
    "### Fit the Random Forest Classifier"
   ]
  },
  {
   "cell_type": "code",
   "execution_count": 12,
   "id": "3bd21de8",
   "metadata": {},
   "outputs": [
    {
     "name": "stdout",
     "output_type": "stream",
     "text": [
      "Brand versus predicted brand: \n",
      "\n"
     ]
    },
    {
     "data": {
      "text/html": [
       "<div>\n",
       "<style scoped>\n",
       "    .dataframe tbody tr th:only-of-type {\n",
       "        vertical-align: middle;\n",
       "    }\n",
       "\n",
       "    .dataframe tbody tr th {\n",
       "        vertical-align: top;\n",
       "    }\n",
       "\n",
       "    .dataframe thead th {\n",
       "        text-align: right;\n",
       "    }\n",
       "</style>\n",
       "<table border=\"1\" class=\"dataframe\">\n",
       "  <thead>\n",
       "    <tr style=\"text-align: right;\">\n",
       "      <th></th>\n",
       "      <th>brand</th>\n",
       "      <th>brand_predicted</th>\n",
       "    </tr>\n",
       "  </thead>\n",
       "  <tbody>\n",
       "    <tr>\n",
       "      <th>0</th>\n",
       "      <td>MIGROS</td>\n",
       "      <td>MIGROS</td>\n",
       "    </tr>\n",
       "    <tr>\n",
       "      <th>1</th>\n",
       "      <td>MIGROS</td>\n",
       "      <td>MIGROS</td>\n",
       "    </tr>\n",
       "    <tr>\n",
       "      <th>2</th>\n",
       "      <td>MIGROS</td>\n",
       "      <td>MIGROS</td>\n",
       "    </tr>\n",
       "    <tr>\n",
       "      <th>3</th>\n",
       "      <td>MIGROS</td>\n",
       "      <td>MIGROS</td>\n",
       "    </tr>\n",
       "    <tr>\n",
       "      <th>4</th>\n",
       "      <td>VOLG</td>\n",
       "      <td>VOLG</td>\n",
       "    </tr>\n",
       "    <tr>\n",
       "      <th>...</th>\n",
       "      <td>...</td>\n",
       "      <td>...</td>\n",
       "    </tr>\n",
       "    <tr>\n",
       "      <th>135</th>\n",
       "      <td>MIGROS</td>\n",
       "      <td>MIGROS</td>\n",
       "    </tr>\n",
       "    <tr>\n",
       "      <th>136</th>\n",
       "      <td>MIGROS</td>\n",
       "      <td>MIGROS</td>\n",
       "    </tr>\n",
       "    <tr>\n",
       "      <th>137</th>\n",
       "      <td>MIGROS</td>\n",
       "      <td>MIGROS</td>\n",
       "    </tr>\n",
       "    <tr>\n",
       "      <th>138</th>\n",
       "      <td>MIGROS</td>\n",
       "      <td>MIGROS</td>\n",
       "    </tr>\n",
       "    <tr>\n",
       "      <th>139</th>\n",
       "      <td>MIGROS</td>\n",
       "      <td>MIGROS</td>\n",
       "    </tr>\n",
       "  </tbody>\n",
       "</table>\n",
       "<p>140 rows × 2 columns</p>\n",
       "</div>"
      ],
      "text/plain": [
       "      brand brand_predicted\n",
       "0    MIGROS          MIGROS\n",
       "1    MIGROS          MIGROS\n",
       "2    MIGROS          MIGROS\n",
       "3    MIGROS          MIGROS\n",
       "4      VOLG            VOLG\n",
       "..      ...             ...\n",
       "135  MIGROS          MIGROS\n",
       "136  MIGROS          MIGROS\n",
       "137  MIGROS          MIGROS\n",
       "138  MIGROS          MIGROS\n",
       "139  MIGROS          MIGROS\n",
       "\n",
       "[140 rows x 2 columns]"
      ]
     },
     "execution_count": 12,
     "metadata": {},
     "output_type": "execute_result"
    }
   ],
   "source": [
    "# Initialize the random forest classifier\n",
    "rfc = RandomForestClassifier(n_estimators=500, random_state=20, max_depth=10)\n",
    "\n",
    "# Train the classification tree model\n",
    "rfc = rfc.fit(X2_train, y2_train)\n",
    "\n",
    "# Predict the target variable\n",
    "y_pred_rf = rfc.predict(X2_test)\n",
    "\n",
    "# Crosstab\n",
    "print('Brand versus predicted brand:', '\\n')\n",
    "df_pred = pd.DataFrame(data={'brand': y2_test, \n",
    "                             'brand_predicted': y_pred_rf}).reset_index(drop=True)\n",
    "df_pred"
   ]
  },
  {
   "cell_type": "markdown",
   "id": "81eefb08",
   "metadata": {},
   "source": [
    "### Show confusion matrix and classification report"
   ]
  },
  {
   "cell_type": "code",
   "execution_count": 13,
   "id": "f8f171ff",
   "metadata": {},
   "outputs": [
    {
     "name": "stdout",
     "output_type": "stream",
     "text": [
      "Confusion matrix\n",
      "[[93 15]\n",
      " [ 4 28]] \n",
      "\n",
      "Classification report\n",
      "              precision    recall  f1-score   support\n",
      "\n",
      "      MIGROS       0.96      0.86      0.91       108\n",
      "        VOLG       0.65      0.88      0.75        32\n",
      "\n",
      "    accuracy                           0.86       140\n",
      "   macro avg       0.80      0.87      0.83       140\n",
      "weighted avg       0.89      0.86      0.87       140\n",
      "\n"
     ]
    }
   ],
   "source": [
    "# Confusion matrix\n",
    "print('Confusion matrix')\n",
    "print(confusion_matrix(y2_test, y_pred_rf), '\\n')\n",
    "\n",
    "# Classification report\n",
    "print('Classification report')\n",
    "print(classification_report(y2_test, y_pred_rf))"
   ]
  },
  {
   "cell_type": "markdown",
   "id": "dcba715c",
   "metadata": {},
   "source": [
    "### Show feature importance"
   ]
  },
  {
   "cell_type": "code",
   "execution_count": 14,
   "id": "a566ca03",
   "metadata": {},
   "outputs": [
    {
     "name": "stdout",
     "output_type": "stream",
     "text": [
      "Index(['emp', 'pop', 'pop_dens', 'frg_pct', 'lon', 'lat'], dtype='object')\n",
      "[0.25157372 0.24487335 0.14642924 0.13647052 0.11873543 0.10191775]\n"
     ]
    },
    {
     "data": {
      "text/plain": [
       "<Axes: ylabel='features'>"
      ]
     },
     "execution_count": 14,
     "metadata": {},
     "output_type": "execute_result"
    },
    {
     "data": {
      "image/png": "[encoded data removed]",
      "text/plain": [
       "<Figure size 600x300 with 1 Axes>"
      ]
     },
     "metadata": {},
     "output_type": "display_data"
    }
   ],
   "source": [
    "cols = X2_train.columns\n",
    "\n",
    "# Derive feature importance from the random forest classifier\n",
    "importances = rfc.feature_importances_\n",
    "std = np.std([tree.feature_importances_ for tree in rfc.estimators_], axis=0)\n",
    "indices = np.argsort(importances)[::-1]\n",
    "\n",
    "# Print col-names and importances-values\n",
    "print( cols[indices] )\n",
    "print( importances[indices] )\n",
    "\n",
    "# Barplot with feature importance\n",
    "df_fi = pd.DataFrame({'features':cols,'importances': importances})\n",
    "df_fi.sort_values('importances', inplace=True)\n",
    "df_fi.plot(kind='barh', \n",
    "           y='importances', \n",
    "           x='features', \n",
    "           color='darkred', \n",
    "           figsize=(6,3))"
   ]
  },
  {
   "cell_type": "markdown",
   "id": "dd2794ee",
   "metadata": {},
   "source": [
    "### ROC curve and AUC"
   ]
  },
  {
   "cell_type": "code",
   "execution_count": 26,
   "id": "749423fa",
   "metadata": {},
   "outputs": [
    {
     "data": {
      "image/png": "[encoded data removed]",
      "text/plain": [
       "<Figure size 600x600 with 1 Axes>"
      ]
     },
     "metadata": {},
     "output_type": "display_data"
    }
   ],
   "source": [
    "# Plot ROC curve and calculate AUC\n",
    "plt.figure(figsize=(6,6))\n",
    "ax = plt.gca()\n",
    "rfc_disp = RocCurveDisplay.from_estimator(rfc, \n",
    "                                          X2_test, \n",
    "                                          y2_test, \n",
    "                                          ax=ax,\n",
    "                                          alpha=0.8,\n",
    "                                          c=\"darkred\")\n",
    "plt.grid()\n",
    "plt.show()"
   ]
  },
  {
   "cell_type": "markdown",
   "id": "387bd5b3",
   "metadata": {},
   "source": [
    "### Jupyter notebook --footer info-- (please always provide this at the end of each submitted notebook)"
   ]
  },
  {
   "cell_type": "code",
   "execution_count": 16,
   "id": "c933c713",
   "metadata": {},
   "outputs": [
    {
     "name": "stdout",
     "output_type": "stream",
     "text": [
      "-----------------------------------\n",
      "NT\n",
      "Windows | 10\n",
      "Datetime: 2024-09-24 15:23:21\n",
      "Python Version: 3.11.9\n",
      "-----------------------------------\n"
     ]
    }
   ],
   "source": [
    "import os\n",
    "import platform\n",
    "import socket\n",
    "from platform import python_version\n",
    "from datetime import datetime\n",
    "\n",
    "print('-----------------------------------')\n",
    "print(os.name.upper())\n",
    "print(platform.system(), '|', platform.release())\n",
    "print('Datetime:', datetime.now().strftime(\"%Y-%m-%d %H:%M:%S\"))\n",
    "print('Python Version:', python_version())\n",
    "print('-----------------------------------')"
   ]
  }
 ],
 "metadata": {
  "kernelspec": {
   "display_name": "Python 3 (ipykernel)",
   "language": "python",
   "name": "python3"
  },
  "language_info": {
   "codemirror_mode": {
    "name": "ipython",
    "version": 3
   },
   "file_extension": ".py",
   "mimetype": "text/x-python",
   "name": "python",
   "nbconvert_exporter": "python",
   "pygments_lexer": "ipython3",
   "version": "3.11.9"
  }
 },
 "nbformat": 4,
 "nbformat_minor": 5
}
