{
 "cells": [
  {
   "cell_type": "markdown",
   "id": "7acd0c20",
   "metadata": {},
   "source": [
    "\n",
    "# Logistic Regression: Classifying Apartments as Expensive or Inexpensive\n",
    "\n",
    "In this notebook, we will use **Logistic Regression** to classify apartments based on their price per square meter.\n",
    "The goal is to predict whether an apartment is \"expensive\" or \"inexpensive\" using available features such as the number of rooms, area, luxurious status, and more.\n",
    "\n",
    "Logistic Regression is a supervised machine learning algorithm used for binary classification problems.\n"
   ]
  },
  {
   "cell_type": "markdown",
   "id": "11114193",
   "metadata": {},
   "source": [
    "## Libraries and settings"
   ]
  },
  {
   "cell_type": "code",
   "execution_count": null,
   "id": "cb493e26",
   "metadata": {},
   "outputs": [],
   "source": [
    "# Libraries\n",
    "import os\n",
    "import pandas as pd\n",
    "import matplotlib.pyplot as plt\n",
    "import seaborn as sns\n",
    "from sklearn.model_selection import train_test_split\n",
    "from sklearn.linear_model import LogisticRegression\n",
    "from sklearn.metrics import confusion_matrix, classification_report, roc_curve, auc\n",
    "from sklearn.preprocessing import StandardScaler\n",
    "\n",
    "# Ignore warnings\n",
    "import warnings\n",
    "warnings.filterwarnings('ignore')\n",
    "\n",
    "# Show current working directory\n",
    "print(os.getcwd())"
   ]
  },
  {
   "cell_type": "markdown",
   "id": "e649f23c",
   "metadata": {},
   "source": [
    "\n",
    "## Import Data\n"
   ]
  },
  {
   "cell_type": "code",
   "execution_count": null,
   "id": "77c4f159",
   "metadata": {},
   "outputs": [],
   "source": [
    "# Load dataset\n",
    "df = pd.read_csv('./Data/apartments_data_enriched_cleaned.csv', \n",
    "                 delimiter=';', \n",
    "                 index_col=0)\n",
    "\n",
    "# Display dataset\n",
    "df.head()"
   ]
  },
  {
   "cell_type": "markdown",
   "id": "70e3c602",
   "metadata": {},
   "source": [
    "\n",
    "## Data Preprocessing\n",
    "\n",
    "Before building the model, we need to preprocess the data. This includes:\n",
    "- Handling missing values (if any).\n",
    "- Creating a binary target variable for classification.\n"
   ]
  },
  {
   "cell_type": "code",
   "execution_count": null,
   "id": "2654afc2",
   "metadata": {},
   "outputs": [],
   "source": [
    "# Check for missing values\n",
    "df.isna().sum()\n",
    "\n",
    "# For simplicity, let's define an 'expensive' apartment as one with a price_per_m2 greater than the median\n",
    "median_price_per_m2 = df['price_per_m2'].median()\n",
    "\n",
    "# Create a new column 'expensive' that is 1 if the price_per_m2 is greater than the median, and 0 otherwise\n",
    "df['expensive'] = (df['price_per_m2'] > median_price_per_m2).astype(int)\n",
    "\n",
    "# Display the updated dataframe\n",
    "df[['price_per_m2', 'expensive']].head()\n"
   ]
  },
  {
   "cell_type": "markdown",
   "id": "9eb3ffa3",
   "metadata": {},
   "source": [
    "\n",
    "## Splitting the Data\n",
    "\n",
    "We'll split the dataset into a training set and a test set (80% training, 20% testing).\n"
   ]
  },
  {
   "cell_type": "code",
   "execution_count": 4,
   "id": "ae173340",
   "metadata": {},
   "outputs": [],
   "source": [
    "# Select features for the model\n",
    "features = ['rooms', \n",
    "            'area', \n",
    "            'luxurious', \n",
    "            'pop_dens', \n",
    "            'mean_taxable_income', \n",
    "            'dist_supermarket']\n",
    "X = df[features]\n",
    "y = df['expensive']\n",
    "\n",
    "# Split the dataset\n",
    "X_train, X_test, y_train, y_test = train_test_split(X, y, test_size=0.2, random_state=42)\n",
    "\n",
    "# Standardize the features\n",
    "scaler = StandardScaler()\n",
    "X_train_scaled = scaler.fit_transform(X_train)\n",
    "X_test_scaled = scaler.transform(X_test)"
   ]
  },
  {
   "cell_type": "markdown",
   "id": "dfdc1406",
   "metadata": {},
   "source": [
    "\n",
    "## Building the Logistic Regression Model\n",
    "\n",
    "Now we'll train a logistic regression model on the training set.\n"
   ]
  },
  {
   "cell_type": "code",
   "execution_count": null,
   "id": "91817556",
   "metadata": {},
   "outputs": [],
   "source": [
    "# Train the Logistic Regression model\n",
    "model = LogisticRegression()\n",
    "model.fit(X_train_scaled, y_train)\n",
    "\n",
    "# Display the model coefficients\n",
    "coefficients = pd.DataFrame({\n",
    "    'Feature': features,\n",
    "    'Coefficient': model.coef_[0]\n",
    "})\n",
    "coefficients"
   ]
  },
  {
   "cell_type": "markdown",
   "id": "68a9d7eb",
   "metadata": {},
   "source": [
    "\n",
    "## Model Evaluation\n",
    "\n",
    "Let's evaluate the model on the test set using various metrics.\n"
   ]
  },
  {
   "cell_type": "markdown",
   "id": "417553a5",
   "metadata": {},
   "source": [
    "### Confusion Matrix and Classification Report"
   ]
  },
  {
   "cell_type": "code",
   "execution_count": null,
   "id": "218b4d6a",
   "metadata": {},
   "outputs": [],
   "source": [
    "# Predict on the test set\n",
    "y_pred = model.predict(X_test_scaled)\n",
    "\n",
    "# Generate confusion matrix\n",
    "cm = confusion_matrix(y_test, y_pred)\n",
    "\n",
    "# Plot confusion matrix as a heatmap\n",
    "plt.figure(figsize=(4, 4))\n",
    "sns.heatmap(cm, \n",
    "            annot=True, \n",
    "            fmt='d', \n",
    "            cmap='Blues',\n",
    "            cbar=False,\n",
    "            xticklabels=['inexpensiv', 'expensive'], \n",
    "            yticklabels=['inexpensive', 'expensive'])\n",
    "plt.xlabel('Predicted')\n",
    "plt.ylabel('Actual')\n",
    "plt.title('Confusion Matrix')\n",
    "plt.show()\n",
    "\n",
    "# Print classification report\n",
    "print('\\nClassification report:\\n', classification_report(y_test, y_pred))\n"
   ]
  },
  {
   "cell_type": "markdown",
   "id": "deceab70",
   "metadata": {},
   "source": [
    "### ROC Curve and AUC"
   ]
  },
  {
   "cell_type": "code",
   "execution_count": null,
   "id": "a82f4792",
   "metadata": {},
   "outputs": [],
   "source": [
    "\n",
    "# ROC Curve\n",
    "y_prob = model.predict_proba(X_test_scaled)[:, 1]\n",
    "fpr, tpr, _ = roc_curve(y_test, y_prob)\n",
    "roc_auc = auc(fpr, tpr)\n",
    "\n",
    "# Plot the ROC curve\n",
    "plt.figure(figsize=(6, 6))\n",
    "plt.plot(fpr, tpr, label=f'Area under the ROC Curve (AUC = {roc_auc:.2f})')\n",
    "plt.plot([0, 1], [0, 1], linestyle='--')\n",
    "plt.xlabel('False Positive Rate')\n",
    "plt.ylabel('True Positive Rate')\n",
    "plt.title('ROC Curve')\n",
    "plt.legend(loc='lower right')\n",
    "plt.grid()\n",
    "plt.show()\n"
   ]
  },
  {
   "cell_type": "markdown",
   "id": "be7bb1b8",
   "metadata": {},
   "source": [
    "\n",
    "## Conclusion\n",
    "\n",
    "We have successfully trained a logistic regression model to classify apartments as \"expensive\" or \"inexpensive\".\n",
    "The model was evaluated using metrics like accuracy, precision, recall, and the ROC curve.\n"
   ]
  },
  {
   "cell_type": "markdown",
   "id": "4d763854",
   "metadata": {},
   "source": [
    "### Jupyter notebook --footer info-- (please always provide this at the end of each notebook)"
   ]
  },
  {
   "cell_type": "code",
   "execution_count": null,
   "id": "345fa028",
   "metadata": {},
   "outputs": [],
   "source": [
    "import os\n",
    "import platform\n",
    "import socket\n",
    "from platform import python_version\n",
    "from datetime import datetime\n",
    "\n",
    "print('-----------------------------------')\n",
    "print(os.name.upper())\n",
    "print(platform.system(), '|', platform.release())\n",
    "print('Datetime:', datetime.now().strftime(\"%Y-%m-%d %H:%M:%S\"))\n",
    "print('Python Version:', python_version())\n",
    "print('-----------------------------------')"
   ]
  }
 ],
 "metadata": {
  "kernelspec": {
   "display_name": "mlenv",
   "language": "python",
   "name": "python3"
  },
  "language_info": {
   "codemirror_mode": {
    "name": "ipython",
    "version": 3
   },
   "file_extension": ".py",
   "mimetype": "text/x-python",
   "name": "python",
   "nbconvert_exporter": "python",
   "pygments_lexer": "ipython3",
   "version": "3.11.9"
  }
 },
 "nbformat": 4,
 "nbformat_minor": 5
}
