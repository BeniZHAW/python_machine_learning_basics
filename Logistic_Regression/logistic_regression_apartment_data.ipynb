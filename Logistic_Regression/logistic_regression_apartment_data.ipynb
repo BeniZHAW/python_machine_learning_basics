{
 "cells": [
  {
   "cell_type": "markdown",
   "id": "7acd0c20",
   "metadata": {},
   "source": [
    "\n",
    "# Logistic Regression: Classifying Apartments as Expensive or Inexpensive\n",
    "\n",
    "In this notebook, we will use **Logistic Regression** to classify apartments based on their price per square meter.\n",
    "The goal is to predict whether an apartment is \"expensive\" or \"inexpensive\" using available features such as the number of rooms, area, luxurious status, and more.\n",
    "\n",
    "Logistic Regression is a supervised machine learning algorithm used for binary classification problems.\n"
   ]
  },
  {
   "cell_type": "markdown",
   "id": "11114193",
   "metadata": {},
   "source": [
    "## Libraries and settings"
   ]
  },
  {
   "cell_type": "code",
   "execution_count": 1,
   "id": "cb493e26",
   "metadata": {},
   "outputs": [
    {
     "name": "stdout",
     "output_type": "stream",
     "text": [
      "u:\\Lektionen\\GitHub_Repositories\\python_machine_learning_basics\\Logistic_Regression\n"
     ]
    }
   ],
   "source": [
    "# Libraries\n",
    "import os\n",
    "import pandas as pd\n",
    "import matplotlib.pyplot as plt\n",
    "import seaborn as sns\n",
    "from sklearn.model_selection import train_test_split\n",
    "from sklearn.linear_model import LogisticRegression\n",
    "from sklearn.metrics import confusion_matrix, classification_report, roc_curve, auc\n",
    "from sklearn.preprocessing import StandardScaler\n",
    "\n",
    "# Ignore warnings\n",
    "import warnings\n",
    "warnings.filterwarnings('ignore')\n",
    "\n",
    "# Show current working directory\n",
    "print(os.getcwd())"
   ]
  },
  {
   "cell_type": "markdown",
   "id": "e649f23c",
   "metadata": {},
   "source": [
    "\n",
    "## Import Data\n"
   ]
  },
  {
   "cell_type": "code",
   "execution_count": 2,
   "id": "77c4f159",
   "metadata": {},
   "outputs": [
    {
     "data": {
      "text/html": [
       "<div>\n",
       "<style scoped>\n",
       "    .dataframe tbody tr th:only-of-type {\n",
       "        vertical-align: middle;\n",
       "    }\n",
       "\n",
       "    .dataframe tbody tr th {\n",
       "        vertical-align: top;\n",
       "    }\n",
       "\n",
       "    .dataframe thead th {\n",
       "        text-align: right;\n",
       "    }\n",
       "</style>\n",
       "<table border=\"1\" class=\"dataframe\">\n",
       "  <thead>\n",
       "    <tr style=\"text-align: right;\">\n",
       "      <th></th>\n",
       "      <th>field_1</th>\n",
       "      <th>web-scraper-order</th>\n",
       "      <th>address_raw</th>\n",
       "      <th>lat</th>\n",
       "      <th>lon</th>\n",
       "      <th>bfs_number</th>\n",
       "      <th>bfs_name</th>\n",
       "      <th>rooms</th>\n",
       "      <th>area</th>\n",
       "      <th>luxurious</th>\n",
       "      <th>price</th>\n",
       "      <th>price_per_m2</th>\n",
       "      <th>pop</th>\n",
       "      <th>pop_dens</th>\n",
       "      <th>emp</th>\n",
       "      <th>frg_pct</th>\n",
       "      <th>mean_taxable_income</th>\n",
       "      <th>dist_supermarket</th>\n",
       "    </tr>\n",
       "  </thead>\n",
       "  <tbody>\n",
       "    <tr>\n",
       "      <th>0</th>\n",
       "      <td>0</td>\n",
       "      <td>1693998201-1</td>\n",
       "      <td>Neuhusstrasse 6, 8630 Rüti ZH, ZH</td>\n",
       "      <td>47.252171</td>\n",
       "      <td>8.845797</td>\n",
       "      <td>118</td>\n",
       "      <td>Rüti (ZH)</td>\n",
       "      <td>3.0</td>\n",
       "      <td>49</td>\n",
       "      <td>0</td>\n",
       "      <td>1441</td>\n",
       "      <td>29.41</td>\n",
       "      <td>12286</td>\n",
       "      <td>1221.272366</td>\n",
       "      <td>5053</td>\n",
       "      <td>24.841283</td>\n",
       "      <td>65362.04268</td>\n",
       "      <td>645.652248</td>\n",
       "    </tr>\n",
       "    <tr>\n",
       "      <th>1</th>\n",
       "      <td>1</td>\n",
       "      <td>1693998233-172</td>\n",
       "      <td>Widacherstrasse 5, 8630 Rüti ZH, ZH</td>\n",
       "      <td>47.252087</td>\n",
       "      <td>8.854919</td>\n",
       "      <td>118</td>\n",
       "      <td>Rüti (ZH)</td>\n",
       "      <td>3.0</td>\n",
       "      <td>111</td>\n",
       "      <td>0</td>\n",
       "      <td>2600</td>\n",
       "      <td>23.42</td>\n",
       "      <td>12286</td>\n",
       "      <td>1221.272366</td>\n",
       "      <td>5053</td>\n",
       "      <td>24.841283</td>\n",
       "      <td>65362.04268</td>\n",
       "      <td>265.102153</td>\n",
       "    </tr>\n",
       "    <tr>\n",
       "      <th>2</th>\n",
       "      <td>2</td>\n",
       "      <td>1693998256-331</td>\n",
       "      <td>Widenweg 14, 8630 Rüti ZH, ZH</td>\n",
       "      <td>47.253670</td>\n",
       "      <td>8.853993</td>\n",
       "      <td>118</td>\n",
       "      <td>Rüti (ZH)</td>\n",
       "      <td>3.0</td>\n",
       "      <td>58</td>\n",
       "      <td>0</td>\n",
       "      <td>1490</td>\n",
       "      <td>25.69</td>\n",
       "      <td>12286</td>\n",
       "      <td>1221.272366</td>\n",
       "      <td>5053</td>\n",
       "      <td>24.841283</td>\n",
       "      <td>65362.04268</td>\n",
       "      <td>94.401821</td>\n",
       "    </tr>\n",
       "    <tr>\n",
       "      <th>3</th>\n",
       "      <td>3</td>\n",
       "      <td>1693998265-381</td>\n",
       "      <td>Rain 1, 8630 Rüti ZH, ZH</td>\n",
       "      <td>47.259834</td>\n",
       "      <td>8.851705</td>\n",
       "      <td>118</td>\n",
       "      <td>Rüti (ZH)</td>\n",
       "      <td>4.0</td>\n",
       "      <td>118</td>\n",
       "      <td>0</td>\n",
       "      <td>3240</td>\n",
       "      <td>27.46</td>\n",
       "      <td>12286</td>\n",
       "      <td>1221.272366</td>\n",
       "      <td>5053</td>\n",
       "      <td>24.841283</td>\n",
       "      <td>65362.04268</td>\n",
       "      <td>106.660970</td>\n",
       "    </tr>\n",
       "    <tr>\n",
       "      <th>4</th>\n",
       "      <td>4</td>\n",
       "      <td>1693998276-419</td>\n",
       "      <td>Bachtelstrasse 24b, 8630 Rüti ZH, ZH</td>\n",
       "      <td>47.266113</td>\n",
       "      <td>8.866872</td>\n",
       "      <td>118</td>\n",
       "      <td>Rüti (ZH)</td>\n",
       "      <td>3.0</td>\n",
       "      <td>66</td>\n",
       "      <td>0</td>\n",
       "      <td>1450</td>\n",
       "      <td>21.97</td>\n",
       "      <td>12286</td>\n",
       "      <td>1221.272366</td>\n",
       "      <td>5053</td>\n",
       "      <td>24.841283</td>\n",
       "      <td>65362.04268</td>\n",
       "      <td>974.844209</td>\n",
       "    </tr>\n",
       "  </tbody>\n",
       "</table>\n",
       "</div>"
      ],
      "text/plain": [
       "   field_1 web-scraper-order                           address_raw        lat  \\\n",
       "0        0      1693998201-1     Neuhusstrasse 6, 8630 Rüti ZH, ZH  47.252171   \n",
       "1        1    1693998233-172   Widacherstrasse 5, 8630 Rüti ZH, ZH  47.252087   \n",
       "2        2    1693998256-331         Widenweg 14, 8630 Rüti ZH, ZH  47.253670   \n",
       "3        3    1693998265-381              Rain 1, 8630 Rüti ZH, ZH  47.259834   \n",
       "4        4    1693998276-419  Bachtelstrasse 24b, 8630 Rüti ZH, ZH  47.266113   \n",
       "\n",
       "        lon  bfs_number   bfs_name  rooms  area  luxurious  price  \\\n",
       "0  8.845797         118  Rüti (ZH)    3.0    49          0   1441   \n",
       "1  8.854919         118  Rüti (ZH)    3.0   111          0   2600   \n",
       "2  8.853993         118  Rüti (ZH)    3.0    58          0   1490   \n",
       "3  8.851705         118  Rüti (ZH)    4.0   118          0   3240   \n",
       "4  8.866872         118  Rüti (ZH)    3.0    66          0   1450   \n",
       "\n",
       "   price_per_m2    pop     pop_dens   emp    frg_pct  mean_taxable_income  \\\n",
       "0         29.41  12286  1221.272366  5053  24.841283          65362.04268   \n",
       "1         23.42  12286  1221.272366  5053  24.841283          65362.04268   \n",
       "2         25.69  12286  1221.272366  5053  24.841283          65362.04268   \n",
       "3         27.46  12286  1221.272366  5053  24.841283          65362.04268   \n",
       "4         21.97  12286  1221.272366  5053  24.841283          65362.04268   \n",
       "\n",
       "   dist_supermarket  \n",
       "0        645.652248  \n",
       "1        265.102153  \n",
       "2         94.401821  \n",
       "3        106.660970  \n",
       "4        974.844209  "
      ]
     },
     "execution_count": 2,
     "metadata": {},
     "output_type": "execute_result"
    }
   ],
   "source": [
    "# Load dataset\n",
    "df = pd.read_csv('./Data/apartments_data_enriched_cleaned.csv', delimiter=';')\n",
    "\n",
    "# Display dataset\n",
    "df.head()"
   ]
  },
  {
   "cell_type": "markdown",
   "id": "70e3c602",
   "metadata": {},
   "source": [
    "\n",
    "## Data Preprocessing\n",
    "\n",
    "Before building the model, we need to preprocess the data. This includes:\n",
    "- Handling missing values (if any).\n",
    "- Creating a binary target variable for classification.\n"
   ]
  },
  {
   "cell_type": "code",
   "execution_count": 3,
   "id": "2654afc2",
   "metadata": {},
   "outputs": [
    {
     "data": {
      "text/html": [
       "<div>\n",
       "<style scoped>\n",
       "    .dataframe tbody tr th:only-of-type {\n",
       "        vertical-align: middle;\n",
       "    }\n",
       "\n",
       "    .dataframe tbody tr th {\n",
       "        vertical-align: top;\n",
       "    }\n",
       "\n",
       "    .dataframe thead th {\n",
       "        text-align: right;\n",
       "    }\n",
       "</style>\n",
       "<table border=\"1\" class=\"dataframe\">\n",
       "  <thead>\n",
       "    <tr style=\"text-align: right;\">\n",
       "      <th></th>\n",
       "      <th>price_per_m2</th>\n",
       "      <th>expensive</th>\n",
       "    </tr>\n",
       "  </thead>\n",
       "  <tbody>\n",
       "    <tr>\n",
       "      <th>0</th>\n",
       "      <td>29.41</td>\n",
       "      <td>1</td>\n",
       "    </tr>\n",
       "    <tr>\n",
       "      <th>1</th>\n",
       "      <td>23.42</td>\n",
       "      <td>0</td>\n",
       "    </tr>\n",
       "    <tr>\n",
       "      <th>2</th>\n",
       "      <td>25.69</td>\n",
       "      <td>0</td>\n",
       "    </tr>\n",
       "    <tr>\n",
       "      <th>3</th>\n",
       "      <td>27.46</td>\n",
       "      <td>0</td>\n",
       "    </tr>\n",
       "    <tr>\n",
       "      <th>4</th>\n",
       "      <td>21.97</td>\n",
       "      <td>0</td>\n",
       "    </tr>\n",
       "  </tbody>\n",
       "</table>\n",
       "</div>"
      ],
      "text/plain": [
       "   price_per_m2  expensive\n",
       "0         29.41          1\n",
       "1         23.42          0\n",
       "2         25.69          0\n",
       "3         27.46          0\n",
       "4         21.97          0"
      ]
     },
     "execution_count": 3,
     "metadata": {},
     "output_type": "execute_result"
    }
   ],
   "source": [
    "# Check for missing values\n",
    "df.isnull().sum()\n",
    "\n",
    "# For simplicity, let's define an 'expensive' apartment as one with a price_per_m2 greater than the median\n",
    "median_price_per_m2 = df['price_per_m2'].median()\n",
    "df['expensive'] = (df['price_per_m2'] > median_price_per_m2).astype(int)\n",
    "\n",
    "# Display the updated dataframe\n",
    "df[['price_per_m2', 'expensive']].head()\n"
   ]
  },
  {
   "cell_type": "markdown",
   "id": "9eb3ffa3",
   "metadata": {},
   "source": [
    "\n",
    "## Splitting the Data\n",
    "\n",
    "We'll split the dataset into a training set and a test set (80% training, 20% testing).\n"
   ]
  },
  {
   "cell_type": "code",
   "execution_count": 4,
   "id": "ae173340",
   "metadata": {},
   "outputs": [],
   "source": [
    "# Select features for the model (we'll keep it simple for this example)\n",
    "features = ['rooms', 'area', 'luxurious', 'pop_dens', 'mean_taxable_income', 'dist_supermarket']\n",
    "X = df[features]\n",
    "y = df['expensive']\n",
    "\n",
    "# Split the dataset\n",
    "X_train, X_test, y_train, y_test = train_test_split(X, y, test_size=0.2, random_state=42)\n",
    "\n",
    "# Standardize the features\n",
    "scaler = StandardScaler()\n",
    "X_train_scaled = scaler.fit_transform(X_train)\n",
    "X_test_scaled = scaler.transform(X_test)"
   ]
  },
  {
   "cell_type": "markdown",
   "id": "dfdc1406",
   "metadata": {},
   "source": [
    "\n",
    "## Building the Logistic Regression Model\n",
    "\n",
    "Now we'll train a logistic regression model on the training set.\n"
   ]
  },
  {
   "cell_type": "code",
   "execution_count": 5,
   "id": "91817556",
   "metadata": {},
   "outputs": [
    {
     "data": {
      "text/html": [
       "<div>\n",
       "<style scoped>\n",
       "    .dataframe tbody tr th:only-of-type {\n",
       "        vertical-align: middle;\n",
       "    }\n",
       "\n",
       "    .dataframe tbody tr th {\n",
       "        vertical-align: top;\n",
       "    }\n",
       "\n",
       "    .dataframe thead th {\n",
       "        text-align: right;\n",
       "    }\n",
       "</style>\n",
       "<table border=\"1\" class=\"dataframe\">\n",
       "  <thead>\n",
       "    <tr style=\"text-align: right;\">\n",
       "      <th></th>\n",
       "      <th>Feature</th>\n",
       "      <th>Coefficient</th>\n",
       "    </tr>\n",
       "  </thead>\n",
       "  <tbody>\n",
       "    <tr>\n",
       "      <th>0</th>\n",
       "      <td>rooms</td>\n",
       "      <td>-0.277112</td>\n",
       "    </tr>\n",
       "    <tr>\n",
       "      <th>1</th>\n",
       "      <td>area</td>\n",
       "      <td>-0.622674</td>\n",
       "    </tr>\n",
       "    <tr>\n",
       "      <th>2</th>\n",
       "      <td>luxurious</td>\n",
       "      <td>0.061063</td>\n",
       "    </tr>\n",
       "    <tr>\n",
       "      <th>3</th>\n",
       "      <td>pop_dens</td>\n",
       "      <td>1.316716</td>\n",
       "    </tr>\n",
       "    <tr>\n",
       "      <th>4</th>\n",
       "      <td>mean_taxable_income</td>\n",
       "      <td>0.558941</td>\n",
       "    </tr>\n",
       "    <tr>\n",
       "      <th>5</th>\n",
       "      <td>dist_supermarket</td>\n",
       "      <td>0.005065</td>\n",
       "    </tr>\n",
       "  </tbody>\n",
       "</table>\n",
       "</div>"
      ],
      "text/plain": [
       "               Feature  Coefficient\n",
       "0                rooms    -0.277112\n",
       "1                 area    -0.622674\n",
       "2            luxurious     0.061063\n",
       "3             pop_dens     1.316716\n",
       "4  mean_taxable_income     0.558941\n",
       "5     dist_supermarket     0.005065"
      ]
     },
     "execution_count": 5,
     "metadata": {},
     "output_type": "execute_result"
    }
   ],
   "source": [
    "# Train the Logistic Regression model\n",
    "model = LogisticRegression()\n",
    "model.fit(X_train_scaled, y_train)\n",
    "\n",
    "# Display the model coefficients\n",
    "coefficients = pd.DataFrame({\n",
    "    'Feature': features,\n",
    "    'Coefficient': model.coef_[0]\n",
    "})\n",
    "coefficients"
   ]
  },
  {
   "cell_type": "markdown",
   "id": "68a9d7eb",
   "metadata": {},
   "source": [
    "\n",
    "## Model Evaluation\n",
    "\n",
    "Let's evaluate the model on the test set using various metrics.\n"
   ]
  },
  {
   "cell_type": "code",
   "execution_count": 6,
   "id": "a82f4792",
   "metadata": {},
   "outputs": [
    {
     "name": "stdout",
     "output_type": "stream",
     "text": [
      "[[69 11]\n",
      " [15 60]]\n",
      "              precision    recall  f1-score   support\n",
      "\n",
      "           0       0.82      0.86      0.84        80\n",
      "           1       0.85      0.80      0.82        75\n",
      "\n",
      "    accuracy                           0.83       155\n",
      "   macro avg       0.83      0.83      0.83       155\n",
      "weighted avg       0.83      0.83      0.83       155\n",
      "\n"
     ]
    },
    {
     "data": {
      "image/png": "[encoded data removed]",
      "text/plain": [
       "<Figure size 640x480 with 1 Axes>"
      ]
     },
     "metadata": {},
     "output_type": "display_data"
    }
   ],
   "source": [
    "# Predict on the test set\n",
    "y_pred = model.predict(X_test_scaled)\n",
    "\n",
    "# Confusion Matrix and Classification Report\n",
    "print(confusion_matrix(y_test, y_pred))\n",
    "print(classification_report(y_test, y_pred))\n",
    "\n",
    "# ROC Curve\n",
    "y_prob = model.predict_proba(X_test_scaled)[:, 1]\n",
    "fpr, tpr, _ = roc_curve(y_test, y_prob)\n",
    "roc_auc = auc(fpr, tpr)\n",
    "\n",
    "# Plot the ROC curve\n",
    "plt.figure()\n",
    "plt.plot(fpr, tpr, label=f'ROC Curve (area = {roc_auc:.2f})')\n",
    "plt.plot([0, 1], [0, 1], linestyle='--')\n",
    "plt.xlabel('False Positive Rate')\n",
    "plt.ylabel('True Positive Rate')\n",
    "plt.title('ROC Curve')\n",
    "plt.legend(loc='lower right')\n",
    "plt.show()\n"
   ]
  },
  {
   "cell_type": "markdown",
   "id": "be7bb1b8",
   "metadata": {},
   "source": [
    "\n",
    "## Conclusion\n",
    "\n",
    "We have successfully trained a logistic regression model to classify apartments as \"expensive\" or \"inexpensive\".\n",
    "The model was evaluated using metrics like accuracy, precision, recall, and the ROC curve.\n"
   ]
  },
  {
   "cell_type": "markdown",
   "id": "4d763854",
   "metadata": {},
   "source": [
    "### Jupyter notebook --footer info-- (please always provide this at the end of each notebook)"
   ]
  },
  {
   "cell_type": "code",
   "execution_count": 7,
   "id": "345fa028",
   "metadata": {},
   "outputs": [
    {
     "name": "stdout",
     "output_type": "stream",
     "text": [
      "-----------------------------------\n",
      "NT\n",
      "Windows | 10\n",
      "Datetime: 2024-09-24 18:57:40\n",
      "Python Version: 3.11.9\n",
      "-----------------------------------\n"
     ]
    }
   ],
   "source": [
    "import os\n",
    "import platform\n",
    "import socket\n",
    "from platform import python_version\n",
    "from datetime import datetime\n",
    "\n",
    "print('-----------------------------------')\n",
    "print(os.name.upper())\n",
    "print(platform.system(), '|', platform.release())\n",
    "print('Datetime:', datetime.now().strftime(\"%Y-%m-%d %H:%M:%S\"))\n",
    "print('Python Version:', python_version())\n",
    "print('-----------------------------------')"
   ]
  }
 ],
 "metadata": {
  "kernelspec": {
   "display_name": "mlenv",
   "language": "python",
   "name": "python3"
  },
  "language_info": {
   "codemirror_mode": {
    "name": "ipython",
    "version": 3
   },
   "file_extension": ".py",
   "mimetype": "text/x-python",
   "name": "python",
   "nbconvert_exporter": "python",
   "pygments_lexer": "ipython3",
   "version": "3.11.9"
  }
 },
 "nbformat": 4,
 "nbformat_minor": 5
}
