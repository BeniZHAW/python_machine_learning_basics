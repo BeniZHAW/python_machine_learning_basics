{
 "cells": [
  {
   "cell_type": "markdown",
   "id": "e0539c91",
   "metadata": {},
   "source": [
    "# Logistic Regression Example\n",
    "This notebook demonstrates a simple logistic regression model using a dataset related to iris flowers. The goal is to predict whether a given iris species is of the species **Iris Virginica** based on its petal width. We'll walk through data preparation, model training, evaluation, and visualization."
   ]
  },
  {
   "cell_type": "markdown",
   "id": "a513eb6b",
   "metadata": {},
   "source": [
    "<div style=\"display: flex; align-items: flex-start;\">\n",
    "    <img src=\"https://upload.wikimedia.org/wikipedia/commons/9/9f/Iris_virginica.jpg\" alt=\"Iris Virginica\" style=\"width: 19.2%;\">\n",
    "  <div style=\"flex: 1; margin-left: 0;\">\n",
    "    <table>\n",
    "      <tr>\n",
    "        <th>Attribute</th>\n",
    "        <th>Value</th>\n",
    "      </tr>\n",
    "      <tr>\n",
    "        <td>Species</td>\n",
    "        <td>Iris Virginica</td>\n",
    "      </tr>\n",
    "      <tr>\n",
    "        <td>Petal Length</td>\n",
    "        <td>4.7 - 6.9 cm</td>\n",
    "      </tr>\n",
    "      <tr>\n",
    "        <td>Petal Width</td>\n",
    "        <td>1.4 - 2.5 cm</td>\n",
    "      </tr>\n",
    "      <tr>\n",
    "        <td>Sepal Length</td>\n",
    "        <td>6.0 - 7.9 cm</td>\n",
    "      </tr>\n",
    "      <tr>\n",
    "        <td>Sepal Width</td>\n",
    "        <td>2.2 - 3.8 cm</td>\n",
    "      </tr>\n",
    "      <tr>\n",
    "        <td>Color</td>\n",
    "        <td>Blue to Purple</td>\n",
    "      </tr>\n",
    "    </table>\n",
    "  </div>\n",
    "</div>"
   ]
  },
  {
   "cell_type": "markdown",
   "id": "61784734",
   "metadata": {},
   "source": [
    "## Libraries and settings"
   ]
  },
  {
   "cell_type": "code",
   "execution_count": 1,
   "id": "6fce981b",
   "metadata": {},
   "outputs": [
    {
     "name": "stdout",
     "output_type": "stream",
     "text": [
      "u:\\Lektionen\\GitHub_Repositories\\python_machine_learning_basics\\Logistic_Regression\n"
     ]
    }
   ],
   "source": [
    "# Libraries\n",
    "import os\n",
    "import numpy as np\n",
    "from sklearn import datasets\n",
    "import matplotlib.pyplot as plt\n",
    "from sklearn.linear_model import LogisticRegression\n",
    "\n",
    "# Ignore warnings\n",
    "import warnings\n",
    "warnings.filterwarnings('ignore')\n",
    "\n",
    "# Show current working directory\n",
    "print(os.getcwd())"
   ]
  },
  {
   "cell_type": "markdown",
   "id": "d5d38de7",
   "metadata": {},
   "source": [
    "## Data Preparation\n",
    "In this section, we load the dataset and prepare it for the logistic regression model. We will use the famous Iris dataset, but only focus on one feature (petal width) to predict one specific class."
   ]
  },
  {
   "cell_type": "code",
   "execution_count": 2,
   "id": "b147fa0a",
   "metadata": {},
   "outputs": [
    {
     "data": {
      "text/plain": [
       "(array([[0.2],\n",
       "        [0.2],\n",
       "        [0.2],\n",
       "        [0.2],\n",
       "        [0.2]]),\n",
       " array([0, 0, 0, 0, 0]))"
      ]
     },
     "execution_count": 2,
     "metadata": {},
     "output_type": "execute_result"
    }
   ],
   "source": [
    "# Load the Iris dataset\n",
    "iris = datasets.load_iris()\n",
    "\n",
    "# We are only interested in the petal width\n",
    "X = iris[\"data\"][:, 3:]\n",
    "\n",
    " # 1 if Iris-Virginica, else 0\n",
    "y = (iris[\"target\"] == 2).astype(np.int32) \n",
    "\n",
    "# Display a sample of the data\n",
    "X[:5], y[:5]"
   ]
  },
  {
   "cell_type": "markdown",
   "id": "c5140edd",
   "metadata": {},
   "source": [
    "## Model Training\n",
    "We will use Scikit-Learn's `LogisticRegression` model to train on the data. The model will learn the relationship between petal width and the probability of the iris being of the species **Iris Virginica**."
   ]
  },
  {
   "cell_type": "code",
   "execution_count": 3,
   "id": "ce8d6919",
   "metadata": {},
   "outputs": [
    {
     "data": {
      "text/plain": [
       "(array([[4.33251974]]), array([-7.19342106]))"
      ]
     },
     "execution_count": 3,
     "metadata": {},
     "output_type": "execute_result"
    }
   ],
   "source": [
    "# Create and train the logistic regression model\n",
    "model = LogisticRegression()\n",
    "model.fit(X, y)\n",
    "\n",
    "# Display the model's learned coefficients\n",
    "model.coef_, model.intercept_"
   ]
  },
  {
   "cell_type": "markdown",
   "id": "d7893715",
   "metadata": {},
   "source": [
    "## Model Evaluation\n",
    "Next, we evaluate the model by generating predictions for new data points. We also visualize the probability estimates to better understand the decision boundary."
   ]
  },
  {
   "cell_type": "code",
   "execution_count": 4,
   "id": "c4c7dff7",
   "metadata": {},
   "outputs": [
    {
     "data": {
      "image/png": "[encoded data removed]",
      "text/plain": [
       "<Figure size 640x480 with 1 Axes>"
      ]
     },
     "metadata": {},
     "output_type": "display_data"
    }
   ],
   "source": [
    "# Generate new data points and predict probabilities\n",
    "X_new = np.linspace(0, 3, 1000).reshape(-1, 1)\n",
    "y_proba = model.predict_proba(X_new)[:, 1]\n",
    "\n",
    "# Plot the predictions\n",
    "plt.plot(X_new, \n",
    "         y_proba, \n",
    "         color=\"orange\",\n",
    "         linewidth=3,\n",
    "         label=\"Iris Virginica Probability\")\n",
    "plt.xlabel(\"Petal Width (cm)\")\n",
    "plt.ylabel(\"Probability\")\n",
    "plt.legend()\n",
    "plt.show()"
   ]
  },
  {
   "cell_type": "markdown",
   "id": "45178f36",
   "metadata": {},
   "source": [
    "## Conclusion\n",
    "In this notebook, we trained a logistic regression model to predict whether a flower is of the species **Iris Virginica** based on petal width. We visualized the probability predictions and demonstrated how logistic regression finds the decision boundary between classes. This method is useful for binary classification tasks like this one."
   ]
  },
  {
   "cell_type": "markdown",
   "id": "960f9fa7",
   "metadata": {},
   "source": [
    "### Jupyter notebook --footer info-- (please always provide this at the end of each notebook)"
   ]
  },
  {
   "cell_type": "code",
   "execution_count": 5,
   "id": "18471c0d",
   "metadata": {},
   "outputs": [
    {
     "name": "stdout",
     "output_type": "stream",
     "text": [
      "-----------------------------------\n",
      "NT\n",
      "Windows | 10\n",
      "Datetime: 2024-09-24 18:55:35\n",
      "Python Version: 3.11.9\n",
      "-----------------------------------\n"
     ]
    }
   ],
   "source": [
    "import os\n",
    "import platform\n",
    "import socket\n",
    "from platform import python_version\n",
    "from datetime import datetime\n",
    "\n",
    "print('-----------------------------------')\n",
    "print(os.name.upper())\n",
    "print(platform.system(), '|', platform.release())\n",
    "print('Datetime:', datetime.now().strftime(\"%Y-%m-%d %H:%M:%S\"))\n",
    "print('Python Version:', python_version())\n",
    "print('-----------------------------------')"
   ]
  }
 ],
 "metadata": {
  "kernelspec": {
   "display_name": "mlenv",
   "language": "python",
   "name": "python3"
  },
  "language_info": {
   "codemirror_mode": {
    "name": "ipython",
    "version": 3
   },
   "file_extension": ".py",
   "mimetype": "text/x-python",
   "name": "python",
   "nbconvert_exporter": "python",
   "pygments_lexer": "ipython3",
   "version": "3.11.9"
  }
 },
 "nbformat": 4,
 "nbformat_minor": 5
}
